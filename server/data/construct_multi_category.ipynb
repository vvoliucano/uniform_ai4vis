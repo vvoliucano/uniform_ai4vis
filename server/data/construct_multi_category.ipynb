{
 "cells": [
  {
   "cell_type": "code",
   "execution_count": 1,
   "metadata": {},
   "outputs": [],
   "source": [
    "from typing import Optional, Sequence, Tuple\n",
    "import requests\n",
    "import json\n",
    "\n",
    "SYSTEM = \"You are a helpful assistant.\"\n",
    "\n",
    "\n",
    "def chat_complete(\n",
    "    *,\n",
    "    system: str = SYSTEM,\n",
    "    history: Sequence[Tuple[str, str]] = (),\n",
    "    question: str = \"\",\n",
    "    api_key_path: str = \"api_key.txt\",\n",
    "    proxy: Optional[str] = None,\n",
    "):\n",
    "    messages = [{\"role\": \"system\", \"content\": system}]\n",
    "    for user, assistant in history:\n",
    "        messages.extend(\n",
    "            (\n",
    "                {\"role\": \"user\", \"content\": user},\n",
    "                {\"role\": \"assistant\", \"content\": assistant},\n",
    "            )\n",
    "        )\n",
    "    messages.append({\"role\": \"user\", \"content\": question})\n",
    "\n",
    "    url = \"https://api.openai.com/v1/chat/completions\"\n",
    "    payload = {\"model\": \"gpt-3.5-turbo\", \"messages\": messages, \"stream\": True}\n",
    "\n",
    "    with open(api_key_path) as f:\n",
    "        api_key = f.read().strip()\n",
    "\n",
    "    headers = {\"Authorization\": f\"Bearer {api_key}\"}\n",
    "\n",
    "    response = requests.post(\n",
    "        url,\n",
    "        json=payload,\n",
    "        headers=headers,\n",
    "        proxies={\"https\": proxy} if proxy else None,\n",
    "        stream=True,\n",
    "    )\n",
    "\n",
    "    for line in response.iter_lines(decode_unicode=False):\n",
    "        line = line.decode(\"utf-8\")\n",
    "        if line.startswith(\"data:\"):\n",
    "            if line == \"data: [DONE]\":\n",
    "                return\n",
    "            if data := line[5:]:\n",
    "                yield json.loads(data)[\"choices\"][0][\"delta\"].get(\"content\", \"\")\n"
   ]
  },
  {
   "cell_type": "code",
   "execution_count": 2,
   "metadata": {},
   "outputs": [
    {
     "name": "stdout",
     "output_type": "stream",
     "text": [
      "65\n"
     ]
    }
   ],
   "source": [
    "topics = [\n",
    "    \"Politics\",\n",
    "    \"Immigration\",\n",
    "    \"Climate Change\",\n",
    "    \"Environment\",\n",
    "    \"Technology\",\n",
    "    \"Social Media\",\n",
    "    \"Privacy\",\n",
    "    \"Art\",\n",
    "    \"Culture\",\n",
    "    \"Sports\",\n",
    "    \"Health\",\n",
    "    \"Education\",\n",
    "    \"Media\",\n",
    "    \"Science\",\n",
    "    \"Religion\",\n",
    "    \"Gender Equality\",\n",
    "    \"Race Relations\",\n",
    "    \"War and Military\",\n",
    "    \"International Relations\",\n",
    "    \"Economy and Finance\",\n",
    "    \"Food and Diet\",\n",
    "    \"Travel and Adventure\",\n",
    "    \"Animal Rights and Protection\",\n",
    "    \"Mental Health\",\n",
    "    \"Physical Health\",\n",
    "    \"Crime and Justice\",\n",
    "    \"Marriage and Family\",\n",
    "    \"Fashion and Beauty\",\n",
    "    \"Entertainment\",\n",
    "    \"Personal Wealth\",\n",
    "    \"Charity\",\n",
    "    \"Human Rights\",\n",
    "    \"Social Justice\",\n",
    "    \"Science Fiction and Fantasy\",\n",
    "    \"Music\",\n",
    "    \"Pop Culture\",\n",
    "    \"Infrastructure\",\n",
    "    \"Urbanization\",\n",
    "    \"Natural Disasters\",\n",
    "    \"Emergency Relief\",\n",
    "    \"Professional Sports\",\n",
    "    \"Energy Efficiency\",\n",
    "    \"Sustainability\",\n",
    "    \"Career Development\",\n",
    "    \"Talent Acquisition\",\n",
    "    \"Computer Science\",\n",
    "    \"Programming\",\n",
    "    \"Mathematics\",\n",
    "    \"Statistics\",\n",
    "    \"Fine Art\",\n",
    "    \"Collectibles\",\n",
    "    \"Film and Television\",\n",
    "    \"Military History and Technology\",\n",
    "    \"Architecture and Design\",\n",
    "    \"Audio and Sound Technology\",\n",
    "    \"Shopping and Consumer Behavior\",\n",
    "    \"Technology Entrepreneurship\",\n",
    "    \"Startups\",\n",
    "    \"Personal Development\",\n",
    "    \"Government and Governance\",\n",
    "    \"Parenting and Family\",\n",
    "    \"Law and Regulation\",\n",
    "    \"Artificial Intelligence\",\n",
    "    \"Machine Learning\",\n",
    "    \"Interpersonal Relationships and Communication\",\n",
    "]\n",
    "print(len(topics))\n"
   ]
  },
  {
   "cell_type": "code",
   "execution_count": 3,
   "metadata": {},
   "outputs": [],
   "source": [
    "import json\n",
    "\n",
    "\n",
    "def gen_attributes(topic: str, template: str):\n",
    "    question = (\n",
    "        \"\"\"\n",
    "    一组数据的三个维度分别是类别、时间范围、数值范围，请给出一些这样的数据属性。类别属性里的choice应该包含5到10个。\n",
    "    例如：[[TEMPLATE]]\n",
    "    请避免与我给出的句子重复, 你应该替换为 [[TOPIC]] 的知识。\n",
    "    三个数据维度在意义上应该有关联，只输出一个 json，不要输出额外的内容。\n",
    "    \"\"\".strip()\n",
    "        .replace(\"[[TOPIC]]\", topic)\n",
    "        .replace(\"[[TEMPLATE]]\", template)\n",
    "    )\n",
    "\n",
    "    try:\n",
    "        s = ''.join(\n",
    "            chat_complete(\n",
    "                system=\"You are a helpful assistant that process json well.\",\n",
    "                question=question,\n",
    "                proxy=\"http://127.0.0.1:7890\",\n",
    "            )\n",
    "        )\n",
    "\n",
    "        start, end = s.find(\"{\"), len(s) - s[::-1].find(\"}\")\n",
    "\n",
    "        attributes = json.loads(s[start:end])\n",
    "        attributes = next(iter(attributes.values()))        \n",
    "\n",
    "        return attributes\n",
    "    except Exception:\n",
    "        return None\n"
   ]
  },
  {
   "cell_type": "code",
   "execution_count": 5,
   "metadata": {},
   "outputs": [],
   "source": [
    "from typing import Union\n",
    "from pydantic import BaseModel\n",
    "\n",
    "\n",
    "class Categorical(BaseModel):\n",
    "    type: str\n",
    "    name: str\n",
    "    choice: Sequence[str]\n",
    "\n",
    "\n",
    "class Temporal(BaseModel):\n",
    "    type: str\n",
    "    span: Union[Sequence[str], Sequence[int]]\n",
    "\n",
    "\n",
    "class Quantitative(BaseModel):\n",
    "    type: str\n",
    "    name: str\n",
    "    range: Union[Sequence[str], Sequence[int]]\n"
   ]
  },
  {
   "cell_type": "code",
   "execution_count": 7,
   "metadata": {},
   "outputs": [
    {
     "name": "stderr",
     "output_type": "stream",
     "text": [
      "success: 168, error: 4:  34%|███▍      | 172/500 [35:16<1:07:16, 12.31s/it]\n"
     ]
    },
    {
     "ename": "KeyboardInterrupt",
     "evalue": "",
     "output_type": "error",
     "traceback": [
      "\u001b[0;31m---------------------------------------------------------------------------\u001b[0m",
      "\u001b[0;31mKeyboardInterrupt\u001b[0m                         Traceback (most recent call last)",
      "\u001b[1;32m/Users/can.liu/vis/NL_manipulate/nl_manipulate/nl/dataset_GPT/construct_multi_category.ipynb Cell 5\u001b[0m in \u001b[0;36m<cell line: 15>\u001b[0;34m()\u001b[0m\n\u001b[1;32m     <a href='vscode-notebook-cell:/Users/can.liu/vis/NL_manipulate/nl_manipulate/nl/dataset_GPT/construct_multi_category.ipynb#W4sZmlsZQ%3D%3D?line=15'>16</a>\u001b[0m \u001b[39mfor\u001b[39;00m _ \u001b[39min\u001b[39;00m \u001b[39mrange\u001b[39m(N):\n\u001b[1;32m     <a href='vscode-notebook-cell:/Users/can.liu/vis/NL_manipulate/nl_manipulate/nl/dataset_GPT/construct_multi_category.ipynb#W4sZmlsZQ%3D%3D?line=16'>17</a>\u001b[0m     topic \u001b[39m=\u001b[39m random\u001b[39m.\u001b[39mchoice(topics)\n\u001b[0;32m---> <a href='vscode-notebook-cell:/Users/can.liu/vis/NL_manipulate/nl_manipulate/nl/dataset_GPT/construct_multi_category.ipynb#W4sZmlsZQ%3D%3D?line=18'>19</a>\u001b[0m     \u001b[39mif\u001b[39;00m attributes \u001b[39m:=\u001b[39m gen_attributes(topic, template_ctq):\n\u001b[1;32m     <a href='vscode-notebook-cell:/Users/can.liu/vis/NL_manipulate/nl_manipulate/nl/dataset_GPT/construct_multi_category.ipynb#W4sZmlsZQ%3D%3D?line=19'>20</a>\u001b[0m         c, t, q \u001b[39m=\u001b[39m attributes\n\u001b[1;32m     <a href='vscode-notebook-cell:/Users/can.liu/vis/NL_manipulate/nl_manipulate/nl/dataset_GPT/construct_multi_category.ipynb#W4sZmlsZQ%3D%3D?line=20'>21</a>\u001b[0m         \u001b[39mwith\u001b[39;00m contextlib\u001b[39m.\u001b[39msuppress(\u001b[39mException\u001b[39;00m):\n",
      "\u001b[1;32m/Users/can.liu/vis/NL_manipulate/nl_manipulate/nl/dataset_GPT/construct_multi_category.ipynb Cell 5\u001b[0m in \u001b[0;36mgen_attributes\u001b[0;34m(topic, template)\u001b[0m\n\u001b[1;32m      <a href='vscode-notebook-cell:/Users/can.liu/vis/NL_manipulate/nl_manipulate/nl/dataset_GPT/construct_multi_category.ipynb#W4sZmlsZQ%3D%3D?line=4'>5</a>\u001b[0m question \u001b[39m=\u001b[39m (\n\u001b[1;32m      <a href='vscode-notebook-cell:/Users/can.liu/vis/NL_manipulate/nl_manipulate/nl/dataset_GPT/construct_multi_category.ipynb#W4sZmlsZQ%3D%3D?line=5'>6</a>\u001b[0m     \u001b[39m\"\"\"\u001b[39;00m\n\u001b[1;32m      <a href='vscode-notebook-cell:/Users/can.liu/vis/NL_manipulate/nl_manipulate/nl/dataset_GPT/construct_multi_category.ipynb#W4sZmlsZQ%3D%3D?line=6'>7</a>\u001b[0m \u001b[39m一组数据的三个维度分别是类别、时间范围、数值范围，请给出一些这样的数据属性。类别属性里的choice应该包含5到10个。\u001b[39;00m\n\u001b[0;32m   (...)\u001b[0m\n\u001b[1;32m     <a href='vscode-notebook-cell:/Users/can.liu/vis/NL_manipulate/nl_manipulate/nl/dataset_GPT/construct_multi_category.ipynb#W4sZmlsZQ%3D%3D?line=12'>13</a>\u001b[0m     \u001b[39m.\u001b[39mreplace(\u001b[39m\"\u001b[39m\u001b[39m[[TEMPLATE]]\u001b[39m\u001b[39m\"\u001b[39m, template)\n\u001b[1;32m     <a href='vscode-notebook-cell:/Users/can.liu/vis/NL_manipulate/nl_manipulate/nl/dataset_GPT/construct_multi_category.ipynb#W4sZmlsZQ%3D%3D?line=13'>14</a>\u001b[0m )\n\u001b[1;32m     <a href='vscode-notebook-cell:/Users/can.liu/vis/NL_manipulate/nl_manipulate/nl/dataset_GPT/construct_multi_category.ipynb#W4sZmlsZQ%3D%3D?line=15'>16</a>\u001b[0m \u001b[39mtry\u001b[39;00m:\n\u001b[0;32m---> <a href='vscode-notebook-cell:/Users/can.liu/vis/NL_manipulate/nl_manipulate/nl/dataset_GPT/construct_multi_category.ipynb#W4sZmlsZQ%3D%3D?line=16'>17</a>\u001b[0m     s \u001b[39m=\u001b[39m \u001b[39m'\u001b[39;49m\u001b[39m'\u001b[39;49m\u001b[39m.\u001b[39;49mjoin(\n\u001b[1;32m     <a href='vscode-notebook-cell:/Users/can.liu/vis/NL_manipulate/nl_manipulate/nl/dataset_GPT/construct_multi_category.ipynb#W4sZmlsZQ%3D%3D?line=17'>18</a>\u001b[0m         chat_complete(\n\u001b[1;32m     <a href='vscode-notebook-cell:/Users/can.liu/vis/NL_manipulate/nl_manipulate/nl/dataset_GPT/construct_multi_category.ipynb#W4sZmlsZQ%3D%3D?line=18'>19</a>\u001b[0m             system\u001b[39m=\u001b[39;49m\u001b[39m\"\u001b[39;49m\u001b[39mYou are a helpful assistant that process json well.\u001b[39;49m\u001b[39m\"\u001b[39;49m,\n\u001b[1;32m     <a href='vscode-notebook-cell:/Users/can.liu/vis/NL_manipulate/nl_manipulate/nl/dataset_GPT/construct_multi_category.ipynb#W4sZmlsZQ%3D%3D?line=19'>20</a>\u001b[0m             question\u001b[39m=\u001b[39;49mquestion,\n\u001b[1;32m     <a href='vscode-notebook-cell:/Users/can.liu/vis/NL_manipulate/nl_manipulate/nl/dataset_GPT/construct_multi_category.ipynb#W4sZmlsZQ%3D%3D?line=20'>21</a>\u001b[0m             proxy\u001b[39m=\u001b[39;49m\u001b[39m\"\u001b[39;49m\u001b[39mhttp://127.0.0.1:7890\u001b[39;49m\u001b[39m\"\u001b[39;49m,\n\u001b[1;32m     <a href='vscode-notebook-cell:/Users/can.liu/vis/NL_manipulate/nl_manipulate/nl/dataset_GPT/construct_multi_category.ipynb#W4sZmlsZQ%3D%3D?line=21'>22</a>\u001b[0m         )\n\u001b[1;32m     <a href='vscode-notebook-cell:/Users/can.liu/vis/NL_manipulate/nl_manipulate/nl/dataset_GPT/construct_multi_category.ipynb#W4sZmlsZQ%3D%3D?line=22'>23</a>\u001b[0m     )\n\u001b[1;32m     <a href='vscode-notebook-cell:/Users/can.liu/vis/NL_manipulate/nl_manipulate/nl/dataset_GPT/construct_multi_category.ipynb#W4sZmlsZQ%3D%3D?line=24'>25</a>\u001b[0m     start, end \u001b[39m=\u001b[39m s\u001b[39m.\u001b[39mfind(\u001b[39m\"\u001b[39m\u001b[39m{\u001b[39m\u001b[39m\"\u001b[39m), \u001b[39mlen\u001b[39m(s) \u001b[39m-\u001b[39m s[::\u001b[39m-\u001b[39m\u001b[39m1\u001b[39m]\u001b[39m.\u001b[39mfind(\u001b[39m\"\u001b[39m\u001b[39m}\u001b[39m\u001b[39m\"\u001b[39m)\n\u001b[1;32m     <a href='vscode-notebook-cell:/Users/can.liu/vis/NL_manipulate/nl_manipulate/nl/dataset_GPT/construct_multi_category.ipynb#W4sZmlsZQ%3D%3D?line=26'>27</a>\u001b[0m     attributes \u001b[39m=\u001b[39m json\u001b[39m.\u001b[39mloads(s[start:end])\n",
      "\u001b[1;32m/Users/can.liu/vis/NL_manipulate/nl_manipulate/nl/dataset_GPT/construct_multi_category.ipynb Cell 5\u001b[0m in \u001b[0;36mchat_complete\u001b[0;34m(system, history, question, api_key_path, proxy)\u001b[0m\n\u001b[1;32m     <a href='vscode-notebook-cell:/Users/can.liu/vis/NL_manipulate/nl_manipulate/nl/dataset_GPT/construct_multi_category.ipynb#W4sZmlsZQ%3D%3D?line=31'>32</a>\u001b[0m headers \u001b[39m=\u001b[39m {\u001b[39m\"\u001b[39m\u001b[39mAuthorization\u001b[39m\u001b[39m\"\u001b[39m: \u001b[39mf\u001b[39m\u001b[39m\"\u001b[39m\u001b[39mBearer \u001b[39m\u001b[39m{\u001b[39;00mapi_key\u001b[39m}\u001b[39;00m\u001b[39m\"\u001b[39m}\n\u001b[1;32m     <a href='vscode-notebook-cell:/Users/can.liu/vis/NL_manipulate/nl_manipulate/nl/dataset_GPT/construct_multi_category.ipynb#W4sZmlsZQ%3D%3D?line=33'>34</a>\u001b[0m response \u001b[39m=\u001b[39m requests\u001b[39m.\u001b[39mpost(\n\u001b[1;32m     <a href='vscode-notebook-cell:/Users/can.liu/vis/NL_manipulate/nl_manipulate/nl/dataset_GPT/construct_multi_category.ipynb#W4sZmlsZQ%3D%3D?line=34'>35</a>\u001b[0m     url,\n\u001b[1;32m     <a href='vscode-notebook-cell:/Users/can.liu/vis/NL_manipulate/nl_manipulate/nl/dataset_GPT/construct_multi_category.ipynb#W4sZmlsZQ%3D%3D?line=35'>36</a>\u001b[0m     json\u001b[39m=\u001b[39mpayload,\n\u001b[0;32m   (...)\u001b[0m\n\u001b[1;32m     <a href='vscode-notebook-cell:/Users/can.liu/vis/NL_manipulate/nl_manipulate/nl/dataset_GPT/construct_multi_category.ipynb#W4sZmlsZQ%3D%3D?line=38'>39</a>\u001b[0m     stream\u001b[39m=\u001b[39m\u001b[39mTrue\u001b[39;00m,\n\u001b[1;32m     <a href='vscode-notebook-cell:/Users/can.liu/vis/NL_manipulate/nl_manipulate/nl/dataset_GPT/construct_multi_category.ipynb#W4sZmlsZQ%3D%3D?line=39'>40</a>\u001b[0m )\n\u001b[0;32m---> <a href='vscode-notebook-cell:/Users/can.liu/vis/NL_manipulate/nl_manipulate/nl/dataset_GPT/construct_multi_category.ipynb#W4sZmlsZQ%3D%3D?line=41'>42</a>\u001b[0m \u001b[39mfor\u001b[39;00m line \u001b[39min\u001b[39;00m response\u001b[39m.\u001b[39miter_lines(decode_unicode\u001b[39m=\u001b[39m\u001b[39mFalse\u001b[39;00m):\n\u001b[1;32m     <a href='vscode-notebook-cell:/Users/can.liu/vis/NL_manipulate/nl_manipulate/nl/dataset_GPT/construct_multi_category.ipynb#W4sZmlsZQ%3D%3D?line=42'>43</a>\u001b[0m     line \u001b[39m=\u001b[39m line\u001b[39m.\u001b[39mdecode(\u001b[39m\"\u001b[39m\u001b[39mutf-8\u001b[39m\u001b[39m\"\u001b[39m)\n\u001b[1;32m     <a href='vscode-notebook-cell:/Users/can.liu/vis/NL_manipulate/nl_manipulate/nl/dataset_GPT/construct_multi_category.ipynb#W4sZmlsZQ%3D%3D?line=43'>44</a>\u001b[0m     \u001b[39mif\u001b[39;00m line\u001b[39m.\u001b[39mstartswith(\u001b[39m\"\u001b[39m\u001b[39mdata:\u001b[39m\u001b[39m\"\u001b[39m):\n",
      "File \u001b[0;32m~/opt/miniconda3/envs/vivisfy/lib/python3.10/site-packages/requests/models.py:865\u001b[0m, in \u001b[0;36mResponse.iter_lines\u001b[0;34m(self, chunk_size, decode_unicode, delimiter)\u001b[0m\n\u001b[1;32m    856\u001b[0m \u001b[39m\"\"\"Iterates over the response data, one line at a time.  When\u001b[39;00m\n\u001b[1;32m    857\u001b[0m \u001b[39mstream=True is set on the request, this avoids reading the\u001b[39;00m\n\u001b[1;32m    858\u001b[0m \u001b[39mcontent at once into memory for large responses.\u001b[39;00m\n\u001b[1;32m    859\u001b[0m \n\u001b[1;32m    860\u001b[0m \u001b[39m.. note:: This method is not reentrant safe.\u001b[39;00m\n\u001b[1;32m    861\u001b[0m \u001b[39m\"\"\"\u001b[39;00m\n\u001b[1;32m    863\u001b[0m pending \u001b[39m=\u001b[39m \u001b[39mNone\u001b[39;00m\n\u001b[0;32m--> 865\u001b[0m \u001b[39mfor\u001b[39;00m chunk \u001b[39min\u001b[39;00m \u001b[39mself\u001b[39m\u001b[39m.\u001b[39miter_content(\n\u001b[1;32m    866\u001b[0m     chunk_size\u001b[39m=\u001b[39mchunk_size, decode_unicode\u001b[39m=\u001b[39mdecode_unicode\n\u001b[1;32m    867\u001b[0m ):\n\u001b[1;32m    869\u001b[0m     \u001b[39mif\u001b[39;00m pending \u001b[39mis\u001b[39;00m \u001b[39mnot\u001b[39;00m \u001b[39mNone\u001b[39;00m:\n\u001b[1;32m    870\u001b[0m         chunk \u001b[39m=\u001b[39m pending \u001b[39m+\u001b[39m chunk\n",
      "File \u001b[0;32m~/opt/miniconda3/envs/vivisfy/lib/python3.10/site-packages/requests/models.py:816\u001b[0m, in \u001b[0;36mResponse.iter_content.<locals>.generate\u001b[0;34m()\u001b[0m\n\u001b[1;32m    814\u001b[0m \u001b[39mif\u001b[39;00m \u001b[39mhasattr\u001b[39m(\u001b[39mself\u001b[39m\u001b[39m.\u001b[39mraw, \u001b[39m\"\u001b[39m\u001b[39mstream\u001b[39m\u001b[39m\"\u001b[39m):\n\u001b[1;32m    815\u001b[0m     \u001b[39mtry\u001b[39;00m:\n\u001b[0;32m--> 816\u001b[0m         \u001b[39myield from\u001b[39;00m \u001b[39mself\u001b[39m\u001b[39m.\u001b[39mraw\u001b[39m.\u001b[39mstream(chunk_size, decode_content\u001b[39m=\u001b[39m\u001b[39mTrue\u001b[39;00m)\n\u001b[1;32m    817\u001b[0m     \u001b[39mexcept\u001b[39;00m ProtocolError \u001b[39mas\u001b[39;00m e:\n\u001b[1;32m    818\u001b[0m         \u001b[39mraise\u001b[39;00m ChunkedEncodingError(e)\n",
      "File \u001b[0;32m~/opt/miniconda3/envs/vivisfy/lib/python3.10/site-packages/urllib3/response.py:623\u001b[0m, in \u001b[0;36mHTTPResponse.stream\u001b[0;34m(self, amt, decode_content)\u001b[0m\n\u001b[1;32m    607\u001b[0m \u001b[39m\"\"\"\u001b[39;00m\n\u001b[1;32m    608\u001b[0m \u001b[39mA generator wrapper for the read() method. A call will block until\u001b[39;00m\n\u001b[1;32m    609\u001b[0m \u001b[39m``amt`` bytes have been read from the connection or until the\u001b[39;00m\n\u001b[0;32m   (...)\u001b[0m\n\u001b[1;32m    620\u001b[0m \u001b[39m    'content-encoding' header.\u001b[39;00m\n\u001b[1;32m    621\u001b[0m \u001b[39m\"\"\"\u001b[39;00m\n\u001b[1;32m    622\u001b[0m \u001b[39mif\u001b[39;00m \u001b[39mself\u001b[39m\u001b[39m.\u001b[39mchunked \u001b[39mand\u001b[39;00m \u001b[39mself\u001b[39m\u001b[39m.\u001b[39msupports_chunked_reads():\n\u001b[0;32m--> 623\u001b[0m     \u001b[39mfor\u001b[39;00m line \u001b[39min\u001b[39;00m \u001b[39mself\u001b[39m\u001b[39m.\u001b[39mread_chunked(amt, decode_content\u001b[39m=\u001b[39mdecode_content):\n\u001b[1;32m    624\u001b[0m         \u001b[39myield\u001b[39;00m line\n\u001b[1;32m    625\u001b[0m \u001b[39melse\u001b[39;00m:\n",
      "File \u001b[0;32m~/opt/miniconda3/envs/vivisfy/lib/python3.10/site-packages/urllib3/response.py:815\u001b[0m, in \u001b[0;36mHTTPResponse.read_chunked\u001b[0;34m(self, amt, decode_content)\u001b[0m\n\u001b[1;32m    812\u001b[0m     \u001b[39mreturn\u001b[39;00m\n\u001b[1;32m    814\u001b[0m \u001b[39mwhile\u001b[39;00m \u001b[39mTrue\u001b[39;00m:\n\u001b[0;32m--> 815\u001b[0m     \u001b[39mself\u001b[39;49m\u001b[39m.\u001b[39;49m_update_chunk_length()\n\u001b[1;32m    816\u001b[0m     \u001b[39mif\u001b[39;00m \u001b[39mself\u001b[39m\u001b[39m.\u001b[39mchunk_left \u001b[39m==\u001b[39m \u001b[39m0\u001b[39m:\n\u001b[1;32m    817\u001b[0m         \u001b[39mbreak\u001b[39;00m\n",
      "File \u001b[0;32m~/opt/miniconda3/envs/vivisfy/lib/python3.10/site-packages/urllib3/response.py:745\u001b[0m, in \u001b[0;36mHTTPResponse._update_chunk_length\u001b[0;34m(self)\u001b[0m\n\u001b[1;32m    743\u001b[0m \u001b[39mif\u001b[39;00m \u001b[39mself\u001b[39m\u001b[39m.\u001b[39mchunk_left \u001b[39mis\u001b[39;00m \u001b[39mnot\u001b[39;00m \u001b[39mNone\u001b[39;00m:\n\u001b[1;32m    744\u001b[0m     \u001b[39mreturn\u001b[39;00m\n\u001b[0;32m--> 745\u001b[0m line \u001b[39m=\u001b[39m \u001b[39mself\u001b[39;49m\u001b[39m.\u001b[39;49m_fp\u001b[39m.\u001b[39;49mfp\u001b[39m.\u001b[39;49mreadline()\n\u001b[1;32m    746\u001b[0m line \u001b[39m=\u001b[39m line\u001b[39m.\u001b[39msplit(\u001b[39mb\u001b[39m\u001b[39m\"\u001b[39m\u001b[39m;\u001b[39m\u001b[39m\"\u001b[39m, \u001b[39m1\u001b[39m)[\u001b[39m0\u001b[39m]\n\u001b[1;32m    747\u001b[0m \u001b[39mtry\u001b[39;00m:\n",
      "File \u001b[0;32m~/opt/miniconda3/envs/vivisfy/lib/python3.10/socket.py:705\u001b[0m, in \u001b[0;36mSocketIO.readinto\u001b[0;34m(self, b)\u001b[0m\n\u001b[1;32m    703\u001b[0m \u001b[39mwhile\u001b[39;00m \u001b[39mTrue\u001b[39;00m:\n\u001b[1;32m    704\u001b[0m     \u001b[39mtry\u001b[39;00m:\n\u001b[0;32m--> 705\u001b[0m         \u001b[39mreturn\u001b[39;00m \u001b[39mself\u001b[39;49m\u001b[39m.\u001b[39;49m_sock\u001b[39m.\u001b[39;49mrecv_into(b)\n\u001b[1;32m    706\u001b[0m     \u001b[39mexcept\u001b[39;00m timeout:\n\u001b[1;32m    707\u001b[0m         \u001b[39mself\u001b[39m\u001b[39m.\u001b[39m_timeout_occurred \u001b[39m=\u001b[39m \u001b[39mTrue\u001b[39;00m\n",
      "File \u001b[0;32m~/opt/miniconda3/envs/vivisfy/lib/python3.10/ssl.py:1274\u001b[0m, in \u001b[0;36mSSLSocket.recv_into\u001b[0;34m(self, buffer, nbytes, flags)\u001b[0m\n\u001b[1;32m   1270\u001b[0m     \u001b[39mif\u001b[39;00m flags \u001b[39m!=\u001b[39m \u001b[39m0\u001b[39m:\n\u001b[1;32m   1271\u001b[0m         \u001b[39mraise\u001b[39;00m \u001b[39mValueError\u001b[39;00m(\n\u001b[1;32m   1272\u001b[0m           \u001b[39m\"\u001b[39m\u001b[39mnon-zero flags not allowed in calls to recv_into() on \u001b[39m\u001b[39m%s\u001b[39;00m\u001b[39m\"\u001b[39m \u001b[39m%\u001b[39m\n\u001b[1;32m   1273\u001b[0m           \u001b[39mself\u001b[39m\u001b[39m.\u001b[39m\u001b[39m__class__\u001b[39m)\n\u001b[0;32m-> 1274\u001b[0m     \u001b[39mreturn\u001b[39;00m \u001b[39mself\u001b[39;49m\u001b[39m.\u001b[39;49mread(nbytes, buffer)\n\u001b[1;32m   1275\u001b[0m \u001b[39melse\u001b[39;00m:\n\u001b[1;32m   1276\u001b[0m     \u001b[39mreturn\u001b[39;00m \u001b[39msuper\u001b[39m()\u001b[39m.\u001b[39mrecv_into(buffer, nbytes, flags)\n",
      "File \u001b[0;32m~/opt/miniconda3/envs/vivisfy/lib/python3.10/ssl.py:1130\u001b[0m, in \u001b[0;36mSSLSocket.read\u001b[0;34m(self, len, buffer)\u001b[0m\n\u001b[1;32m   1128\u001b[0m \u001b[39mtry\u001b[39;00m:\n\u001b[1;32m   1129\u001b[0m     \u001b[39mif\u001b[39;00m buffer \u001b[39mis\u001b[39;00m \u001b[39mnot\u001b[39;00m \u001b[39mNone\u001b[39;00m:\n\u001b[0;32m-> 1130\u001b[0m         \u001b[39mreturn\u001b[39;00m \u001b[39mself\u001b[39;49m\u001b[39m.\u001b[39;49m_sslobj\u001b[39m.\u001b[39;49mread(\u001b[39mlen\u001b[39;49m, buffer)\n\u001b[1;32m   1131\u001b[0m     \u001b[39melse\u001b[39;00m:\n\u001b[1;32m   1132\u001b[0m         \u001b[39mreturn\u001b[39;00m \u001b[39mself\u001b[39m\u001b[39m.\u001b[39m_sslobj\u001b[39m.\u001b[39mread(\u001b[39mlen\u001b[39m)\n",
      "\u001b[0;31mKeyboardInterrupt\u001b[0m: "
     ]
    }
   ],
   "source": [
    "import contextlib\n",
    "import random\n",
    "import tqdm\n",
    "import pandas as pd\n",
    "\n",
    "N = 500\n",
    "\n",
    "df = pd.DataFrame(columns=[\"topic\", \"c\", \"t\", \"q\"])\n",
    "\n",
    "template_ctq = \"\"\"{\"attribute\": [{\"type\": \"categorical\",\"name\": \"country\",\"choice\": [\"China\", \"Japan\", \"USA\", \"Germany\", \"France\", \"Iran\"]}, {\"type\": \"temporal\",\"span\": [2010, 2023]},{\"type\": \"quantitative\",\"name\": \"GDP\",\"range\": [10, 2000]}]}\"\"\"\n",
    "\n",
    "success = 0\n",
    "error = 0\n",
    "\n",
    "with tqdm.tqdm(total=N) as pbar:\n",
    "    for _ in range(N):\n",
    "        topic = random.choice(topics)\n",
    "\n",
    "        if attributes := gen_attributes(topic, template_ctq):\n",
    "            c, t, q = attributes\n",
    "            with contextlib.suppress(Exception):\n",
    "                c = Categorical(**c).dict()\n",
    "                t = Temporal(**t).dict()\n",
    "                q = Quantitative(**q).dict()\n",
    "                df = pd.concat(\n",
    "                    [df, pd.DataFrame({\"topic\": [topic], \"c\": [c], \"t\": [t], \"q\": [q]})],\n",
    "                    ignore_index=True,\n",
    "                )\n",
    "                success += 1\n",
    "                pbar.set_description(f\"success: {success}, error: {error}\")\n",
    "                pbar.update(1)\n",
    "                df.to_csv(\"ctq_attribute.csv\", index=False)\n",
    "                continue\n",
    "        error += 1\n",
    "        pbar.set_description(f\"success: {success}, error: {error}\")\n",
    "        pbar.update(1)\n",
    "\n"
   ]
  },
  {
   "cell_type": "code",
   "execution_count": 8,
   "metadata": {},
   "outputs": [
    {
     "data": {
      "text/html": [
       "<div>\n",
       "<style scoped>\n",
       "    .dataframe tbody tr th:only-of-type {\n",
       "        vertical-align: middle;\n",
       "    }\n",
       "\n",
       "    .dataframe tbody tr th {\n",
       "        vertical-align: top;\n",
       "    }\n",
       "\n",
       "    .dataframe thead th {\n",
       "        text-align: right;\n",
       "    }\n",
       "</style>\n",
       "<table border=\"1\" class=\"dataframe\">\n",
       "  <thead>\n",
       "    <tr style=\"text-align: right;\">\n",
       "      <th></th>\n",
       "      <th>topic</th>\n",
       "      <th>c</th>\n",
       "      <th>t</th>\n",
       "      <th>q</th>\n",
       "    </tr>\n",
       "  </thead>\n",
       "  <tbody>\n",
       "    <tr>\n",
       "      <th>0</th>\n",
       "      <td>Technology</td>\n",
       "      <td>{'type': 'categorical', 'name': 'industry', 'c...</td>\n",
       "      <td>{'type': 'temporal', 'span': ['2015', '2025']}</td>\n",
       "      <td>{'type': 'quantitative', 'name': 'Revenue', 'r...</td>\n",
       "    </tr>\n",
       "    <tr>\n",
       "      <th>1</th>\n",
       "      <td>Startups</td>\n",
       "      <td>{'type': 'categorical', 'name': 'industry', 'c...</td>\n",
       "      <td>{'type': 'temporal', 'span': ['2015', '2021']}</td>\n",
       "      <td>{'type': 'quantitative', 'name': 'Funding', 'r...</td>\n",
       "    </tr>\n",
       "    <tr>\n",
       "      <th>2</th>\n",
       "      <td>Mathematics</td>\n",
       "      <td>{'type': 'categorical', 'name': 'mathematical ...</td>\n",
       "      <td>{'type': 'temporal', 'span': ['1990', '2020']}</td>\n",
       "      <td>{'type': 'quantitative', 'name': 'number of pu...</td>\n",
       "    </tr>\n",
       "    <tr>\n",
       "      <th>3</th>\n",
       "      <td>Marriage and Family</td>\n",
       "      <td>{'type': 'categorical', 'name': 'relationship_...</td>\n",
       "      <td>{'type': 'temporal', 'span': ['1980', '2023']}</td>\n",
       "      <td>{'type': 'quantitative', 'name': 'number_of_ch...</td>\n",
       "    </tr>\n",
       "    <tr>\n",
       "      <th>4</th>\n",
       "      <td>Physical Health</td>\n",
       "      <td>{'type': 'categorical', 'name': 'activity', 'c...</td>\n",
       "      <td>{'type': 'temporal', 'span': ['January 1, 2020...</td>\n",
       "      <td>{'type': 'quantitative', 'name': 'Calories Bur...</td>\n",
       "    </tr>\n",
       "    <tr>\n",
       "      <th>5</th>\n",
       "      <td>Sustainability</td>\n",
       "      <td>{'type': 'categorical', 'name': 'industry', 'c...</td>\n",
       "      <td>{'type': 'temporal', 'span': ['2000', '2025']}</td>\n",
       "      <td>{'type': 'quantitative', 'name': 'Carbon Emiss...</td>\n",
       "    </tr>\n",
       "    <tr>\n",
       "      <th>6</th>\n",
       "      <td>Travel and Adventure</td>\n",
       "      <td>{'type': 'categorical', 'name': 'destination',...</td>\n",
       "      <td>{'type': 'temporal', 'span': ['2022 Spring', '...</td>\n",
       "      <td>{'type': 'quantitative', 'name': 'budget', 'ra...</td>\n",
       "    </tr>\n",
       "    <tr>\n",
       "      <th>7</th>\n",
       "      <td>Parenting and Family</td>\n",
       "      <td>{'type': 'categorical', 'name': 'Parenting Sty...</td>\n",
       "      <td>{'type': 'temporal', 'span': ['1990', '2021']}</td>\n",
       "      <td>{'type': 'quantitative', 'name': 'Number of Ch...</td>\n",
       "    </tr>\n",
       "    <tr>\n",
       "      <th>8</th>\n",
       "      <td>Education</td>\n",
       "      <td>{'type': 'categorical', 'name': 'degree', 'cho...</td>\n",
       "      <td>{'type': 'temporal', 'span': ['1990', '2022']}</td>\n",
       "      <td>{'type': 'quantitative', 'name': 'Salary', 'ra...</td>\n",
       "    </tr>\n",
       "    <tr>\n",
       "      <th>9</th>\n",
       "      <td>War and Military</td>\n",
       "      <td>{'type': 'categorical', 'name': 'country', 'ch...</td>\n",
       "      <td>{'type': 'temporal', 'span': ['1939', '1945']}</td>\n",
       "      <td>{'type': 'quantitative', 'name': 'casualties',...</td>\n",
       "    </tr>\n",
       "  </tbody>\n",
       "</table>\n",
       "</div>"
      ],
      "text/plain": [
       "                  topic                                                  c  \\\n",
       "0            Technology  {'type': 'categorical', 'name': 'industry', 'c...   \n",
       "1              Startups  {'type': 'categorical', 'name': 'industry', 'c...   \n",
       "2           Mathematics  {'type': 'categorical', 'name': 'mathematical ...   \n",
       "3   Marriage and Family  {'type': 'categorical', 'name': 'relationship_...   \n",
       "4       Physical Health  {'type': 'categorical', 'name': 'activity', 'c...   \n",
       "5        Sustainability  {'type': 'categorical', 'name': 'industry', 'c...   \n",
       "6  Travel and Adventure  {'type': 'categorical', 'name': 'destination',...   \n",
       "7  Parenting and Family  {'type': 'categorical', 'name': 'Parenting Sty...   \n",
       "8             Education  {'type': 'categorical', 'name': 'degree', 'cho...   \n",
       "9      War and Military  {'type': 'categorical', 'name': 'country', 'ch...   \n",
       "\n",
       "                                                   t  \\\n",
       "0     {'type': 'temporal', 'span': ['2015', '2025']}   \n",
       "1     {'type': 'temporal', 'span': ['2015', '2021']}   \n",
       "2     {'type': 'temporal', 'span': ['1990', '2020']}   \n",
       "3     {'type': 'temporal', 'span': ['1980', '2023']}   \n",
       "4  {'type': 'temporal', 'span': ['January 1, 2020...   \n",
       "5     {'type': 'temporal', 'span': ['2000', '2025']}   \n",
       "6  {'type': 'temporal', 'span': ['2022 Spring', '...   \n",
       "7     {'type': 'temporal', 'span': ['1990', '2021']}   \n",
       "8     {'type': 'temporal', 'span': ['1990', '2022']}   \n",
       "9     {'type': 'temporal', 'span': ['1939', '1945']}   \n",
       "\n",
       "                                                   q  \n",
       "0  {'type': 'quantitative', 'name': 'Revenue', 'r...  \n",
       "1  {'type': 'quantitative', 'name': 'Funding', 'r...  \n",
       "2  {'type': 'quantitative', 'name': 'number of pu...  \n",
       "3  {'type': 'quantitative', 'name': 'number_of_ch...  \n",
       "4  {'type': 'quantitative', 'name': 'Calories Bur...  \n",
       "5  {'type': 'quantitative', 'name': 'Carbon Emiss...  \n",
       "6  {'type': 'quantitative', 'name': 'budget', 'ra...  \n",
       "7  {'type': 'quantitative', 'name': 'Number of Ch...  \n",
       "8  {'type': 'quantitative', 'name': 'Salary', 'ra...  \n",
       "9  {'type': 'quantitative', 'name': 'casualties',...  "
      ]
     },
     "execution_count": 8,
     "metadata": {},
     "output_type": "execute_result"
    }
   ],
   "source": [
    "import pandas as pd\n",
    "\n",
    "pd.read_csv(\"ctq_attribute.csv\").head(10)"
   ]
  },
  {
   "cell_type": "code",
   "execution_count": 28,
   "metadata": {},
   "outputs": [],
   "source": [
    "templates = []\n",
    "\n",
    "\n",
    "def template(t: str):\n",
    "    def wrapper(f):\n",
    "        templates.append((t, f))\n",
    "        return f\n",
    "\n",
    "    return wrapper\n",
    "\n",
    "\n",
    "# @template(\"What is the {quantity} of {category_1}?\")\n",
    "# def cq_identify(category, category_1, quantity, **_):\n",
    "#     return {\n",
    "#         \"identify\": quantity,\n",
    "#         \"filter\": [{\"attr\": category, \"op\": \"=\", \"value\": category_1}],\n",
    "#     }\n",
    "\n",
    "\n",
    "# @template(\"Which {category} has the highest {quantity}?\")\n",
    "# def cq_max(category, quantity, **_):\n",
    "#     return {\n",
    "#         \"identify\": category,\n",
    "#         \"filter\": [\n",
    "#             {\n",
    "#                 \"attr\": quantity,\n",
    "#                 \"op\": \"=\",\n",
    "#                 \"value\": {\"operation\": \"max\", \"attribute\": quantity},\n",
    "#             }\n",
    "#         ],\n",
    "#     }\n",
    "\n",
    "\n",
    "# @template(\"Which {category} has the lowest {quantity}?\")\n",
    "# def cq_min(category, quantity, **_):\n",
    "#     return {\n",
    "#         \"identify\": category,\n",
    "#         \"filter\": [\n",
    "#             {\n",
    "#                 \"attr\": quantity,\n",
    "#                 \"op\": \"=\",\n",
    "#                 \"value\": {\"operation\": \"min\", \"attribute\": quantity},\n",
    "#             }\n",
    "#         ],\n",
    "#     }\n",
    "\n",
    "\n",
    "# @template(\"What is the difference of {quantity} between {category_1} and {category_2}?\")\n",
    "# def cq_diff(category, category_1, category_2, quantity, **_):\n",
    "#     return {\n",
    "#         \"compare\": quantity,\n",
    "#         \"list\": [\n",
    "#             {\n",
    "#                 \"identify\": quantity,\n",
    "#                 \"filter\": [{\"attr\": category, \"op\": \"=\", \"value\": category_1}],\n",
    "#             },\n",
    "#             {\n",
    "#                 \"identify\": quantity,\n",
    "#                 \"filter\": [{\"attr\": category, \"op\": \"=\", \"value\": category_2}],\n",
    "#             },\n",
    "#         ],\n",
    "#     }\n",
    "\n",
    "\n",
    "# @template(\"Which {category} has the {quantity} that is above average?\")\n",
    "# def cq_above_avg(category, quantity, **_):\n",
    "#     return {\n",
    "#         \"identify\": category,\n",
    "#         \"filter\": [\n",
    "#             {\n",
    "#                 \"attr\": quantity,\n",
    "#                 \"op\": \">\",\n",
    "#                 \"value\": {\"operation\": \"avg\", \"attribute\": quantity},\n",
    "#             }\n",
    "#         ],\n",
    "#     }\n",
    "\n",
    "\n",
    "# @template(\"Which {category} has the {quantity} that is below average?\")\n",
    "# def cq_below_avg(category, quantity, **_):\n",
    "#     return {\n",
    "#         \"identify\": category,\n",
    "#         \"filter\": [\n",
    "#             {\n",
    "#                 \"attr\": quantity,\n",
    "#                 \"op\": \"<\",\n",
    "#                 \"value\": {\"operation\": \"avg\", \"attribute\": quantity},\n",
    "#             }\n",
    "#         ],\n",
    "#     }\n",
    "\n",
    "\n",
    "# @template(\"what is the sum of {quantity} of {category_1} and {category_2}?\")\n",
    "# def cq_sum(category, category_1, category_2, quantity, **_):\n",
    "#     return {\n",
    "#         \"sum\": quantity,\n",
    "#         \"list\": [\n",
    "#             {\n",
    "#                 \"identify\": quantity,\n",
    "#                 \"filter\": [{\"attr\": category, \"op\": \"=\", \"value\": category_1}],\n",
    "#             },\n",
    "#             {\n",
    "#                 \"identify\": quantity,\n",
    "#                 \"filter\": [{\"attr\": category, \"op\": \"=\", \"value\": category_2}],\n",
    "#             },\n",
    "#         ],\n",
    "#     }\n",
    "\n",
    "\n",
    "# @template(\"What is the {quantity} of {category_1} in {time_1}?\")\n",
    "# def ctq_identify(category, category_1, quantity, time, time_1, **_):\n",
    "#     return {\n",
    "#         \"identify\": quantity,\n",
    "#         \"filter\": [\n",
    "#             {\"attr\": category, \"op\": \"=\", \"value\": category_1},\n",
    "#             {\"attr\": time, \"op\": \"=\", \"value\": time_1},\n",
    "#         ],\n",
    "#     }\n",
    "\n",
    "\n",
    "# @template(\"Which {category} has the highest {quantity} in {time_1}?\")\n",
    "# def ctq_max(category, quantity, time_1, **_):\n",
    "#     return {\n",
    "#         \"identify\": category,\n",
    "#         \"filter\": [\n",
    "#             {\"attr\": \"time\", \"op\": \"=\", \"value\": time_1},\n",
    "#             {\n",
    "#                 \"attr\": quantity,\n",
    "#                 \"op\": \"=\",\n",
    "#                 \"value\": {\"operation\": \"max\", \"attribute\": quantity},\n",
    "#             },\n",
    "#         ],\n",
    "#     }\n",
    "\n",
    "\n",
    "# @template(\"Which {category} has the lowest {quantity} in {time_1}?\")\n",
    "# def ctq_min(category, quantity, time_1, **_):\n",
    "#     return {\n",
    "#         \"identify\": category,\n",
    "#         \"filter\": [\n",
    "#             {\"attr\": \"time\", \"op\": \"=\", \"value\": time_1},\n",
    "#             {\n",
    "#                 \"attr\": quantity,\n",
    "#                 \"op\": \"=\",\n",
    "#                 \"value\": {\"operation\": \"min\", \"attribute\": quantity},\n",
    "#             },\n",
    "#         ],\n",
    "#     }\n",
    "\n",
    "\n",
    "# @template(\n",
    "#     \"What is the difference of {quantity} between {category_1} and {category_2} in {time_1}?\"\n",
    "# )\n",
    "# def ctq_diff(category, category_1, category_2, quantity, time_1, **_):\n",
    "#     return {\n",
    "#         \"compare\": quantity,\n",
    "#         \"list\": [\n",
    "#             {\n",
    "#                 \"identify\": category,\n",
    "#                 \"filter\": [\n",
    "#                     {\"attr\": category, \"op\": \"=\", \"value\": category_1},\n",
    "#                     {\"attr\": \"time\", \"op\": \"=\", \"value\": time_1},\n",
    "#                 ],\n",
    "#             },\n",
    "#             {\n",
    "#                 \"identify\": category,\n",
    "#                 \"filter\": [\n",
    "#                     {\"attr\": category, \"op\": \"=\", \"value\": category_2},\n",
    "#                     {\"attr\": \"time\", \"op\": \"=\", \"value\": time_1},\n",
    "#                 ],\n",
    "#             },\n",
    "#         ],\n",
    "#     }\n",
    "\n",
    "\n",
    "# @template(\"What is the trend of the {quantity} of {category_1}?\")\n",
    "# def ctq_trend(category, category_1, quantity, **_):\n",
    "#     return {\n",
    "#         \"trend\": quantity,\n",
    "#         \"filter\": [{\"attr\": category, \"op\": \"=\", \"value\": category_1}],\n",
    "#     }\n",
    "\n",
    "\n",
    "# @template(\"What is the sum of {quantity} of {category_1} and {category_2} in {time_1}?\")\n",
    "# def ctq_sum(category, category_1, category_2, quantity, time_1, **_):\n",
    "#     return {\n",
    "#         \"sum\": quantity,\n",
    "#         \"list\": [\n",
    "#             {\n",
    "#                 \"identify\": quantity,\n",
    "#                 \"filter\": [\n",
    "#                     {\"attr\": category, \"op\": \"=\", \"value\": category_1},\n",
    "#                     {\"attr\": \"time\", \"op\": \"=\", \"value\": time_1},\n",
    "#                 ],\n",
    "#             },\n",
    "#             {\n",
    "#                 \"identify\": quantity,\n",
    "#                 \"filter\": [\n",
    "#                     {\"attr\": category, \"op\": \"=\", \"value\": category_2},\n",
    "#                     {\"attr\": \"time\", \"op\": \"=\", \"value\": time_1},\n",
    "#                 ],\n",
    "#             },\n",
    "#         ],\n",
    "#     }\n",
    "\n",
    "\n",
    "# @template(\"Which {category} has the highest {quantity} from {time_1} to {time_2}?\")\n",
    "# def ctq_max_range(category, quantity, time_1, time_2, **_):\n",
    "#     return {\n",
    "#         \"identify\": category,\n",
    "#         \"filter\": [\n",
    "#             {\"attr\": \"time\", \"op\": \">=\", \"value\": time_1},\n",
    "#             {\"attr\": \"time\", \"op\": \"<=\", \"value\": time_2},\n",
    "#             {\n",
    "#                 \"attr\": quantity,\n",
    "#                 \"op\": \"=\",\n",
    "#                 \"value\": {\"operation\": \"max\", \"attribute\": quantity},\n",
    "#             },\n",
    "#         ],\n",
    "#     }\n",
    "\n",
    "\n",
    "# @template(\"Which {category} has the lowest {quantity} from {time_1} to {time_2}?\")\n",
    "# def ctq_min_range(category, quantity, time_1, time_2, **_):\n",
    "#     return {\n",
    "#         \"identify\": category,\n",
    "#         \"filter\": [\n",
    "#             {\"attr\": \"time\", \"op\": \">=\", \"value\": time_1},\n",
    "#             {\"attr\": \"time\", \"op\": \"<=\", \"value\": time_2},\n",
    "#             {\n",
    "#                 \"attr\": quantity,\n",
    "#                 \"op\": \"=\",\n",
    "#                 \"value\": {\"operation\": \"min\", \"attribute\": quantity},\n",
    "#             },\n",
    "#         ],\n",
    "#     }\n",
    "\n",
    "\n",
    "# @template(\n",
    "#     \"What is the sum of {quantity} of {category_1} and {category_2} from {time_1} to {time_2}?\"\n",
    "# )\n",
    "# def ctq_sum_range(category, category_1, category_2, quantity, time_1, time_2, **_):\n",
    "#     return {\n",
    "#         \"sum\": quantity,\n",
    "#         \"list\": [\n",
    "#             {\n",
    "#                 \"identify\": quantity,\n",
    "#                 \"filter\": [\n",
    "#                     {\"attr\": category, \"op\": \"=\", \"value\": category_1},\n",
    "#                     {\"attr\": \"time\", \"op\": \">=\", \"value\": time_1},\n",
    "#                     {\"attr\": \"time\", \"op\": \"<=\", \"value\": time_2},\n",
    "#                 ],\n",
    "#             },\n",
    "#             {\n",
    "#                 \"identify\": quantity,\n",
    "#                 \"filter\": [\n",
    "#                     {\"attr\": category, \"op\": \"=\", \"value\": category_2},\n",
    "#                     {\"attr\": \"time\", \"op\": \">=\", \"value\": time_1},\n",
    "#                     {\"attr\": \"time\", \"op\": \"<=\", \"value\": time_2},\n",
    "#                 ],\n",
    "#             },\n",
    "#         ],\n",
    "#     }\n",
    "\n",
    "\n",
    "# @template(\n",
    "#     \"What is the difference of {quantity} between {category_1} and {category_2} from {time_1} to {time_2}?\"\n",
    "# )\n",
    "# def ctq_diff_range(category, category_1, category_2, quantity, time_1, time_2, **_):\n",
    "#     return {\n",
    "#         \"compare\": quantity,\n",
    "#         \"list\": [\n",
    "#             {\n",
    "#                 \"identify\": category,\n",
    "#                 \"filter\": [\n",
    "#                     {\"attr\": category, \"op\": \"=\", \"value\": category_1},\n",
    "#                     {\"attr\": \"time\", \"op\": \">=\", \"value\": time_1},\n",
    "#                     {\"attr\": \"time\", \"op\": \"<=\", \"value\": time_2},\n",
    "#                 ],\n",
    "#             },\n",
    "#             {\n",
    "#                 \"identify\": category,\n",
    "#                 \"filter\": [\n",
    "#                     {\"attr\": category, \"op\": \"=\", \"value\": category_2},\n",
    "#                     {\"attr\": \"time\", \"op\": \">=\", \"value\": time_1},\n",
    "#                     {\"attr\": \"time\", \"op\": \"<=\", \"value\": time_2},\n",
    "#                 ],\n",
    "#             },\n",
    "#         ],\n",
    "#     }\n",
    "\n",
    "\n",
    "# @template(\n",
    "#     \"What is the trend of the {quantity} of {category_1} from {time_1} to {time_2}?\"\n",
    "# )\n",
    "# def ctq_trend_range(category, category_1, quantity, time_1, time_2, **_):\n",
    "#     return {\n",
    "#         \"trend\": quantity,\n",
    "#         \"filter\": [\n",
    "#             {\"attr\": category, \"op\": \"=\", \"value\": category_1},\n",
    "#             {\"attr\": \"time\", \"op\": \">=\", \"value\": time_1},\n",
    "#             {\"attr\": \"time\", \"op\": \"<=\", \"value\": time_2},\n",
    "#         ],\n",
    "#     }\n",
    "\n",
    "\n",
    "# added\n",
    "\n",
    "\n",
    "# @template(\n",
    "#     \"What is the trend of the {quantity} of {category_1} and {category_2} from {time_1} to {time_2}?\"\n",
    "# )\n",
    "# def ctq_multi_trend_range(category, category_1, category_2, quantity, time_1, time_2, **_):\n",
    "#     return {\n",
    "#         \"trend\": quantity,\n",
    "#         \"filter\": [\n",
    "#             {\"attr\": category, \"op\": \"in\", \"value\": [category_1, category_2]},\n",
    "#             {\"attr\": \"time\", \"op\": \">=\", \"value\": time_1},\n",
    "#             {\"attr\": \"time\", \"op\": \"<=\", \"value\": time_2},\n",
    "#         ],\n",
    "#     }\n",
    "\n",
    "\n",
    "# @template(\n",
    "#     \"Among {category_1} and {category_2}, what is the {category} with the highest {quantity} from {time_1} to {time_2}?\"\n",
    "# )\n",
    "# def ctq_max_value_choice_range(category, category_1, category_2, quantity, time_1, time_2, **_):\n",
    "#     return {\n",
    "#         \"identify\": category,\n",
    "#         \"filter\": [\n",
    "#             {\"attr\": category, \"op\": \"in\", \"value\": [category_1, category_2]},\n",
    "#             {\"attr\": quantity, \"op\": \"=\", \"value\": {\"operation\": \"max\", \"attribute\": quantity}},\n",
    "#             {\"attr\": \"time\", \"op\": \">=\", \"value\": time_1},\n",
    "#             {\"attr\": \"time\", \"op\": \"<=\", \"value\": time_2},\n",
    "#         ],\n",
    "#     }\n",
    "\n",
    "# @template(\n",
    "#     \"Among {category_1}, {category_2}, and {category_3}, what is the {category} with the highest {quantity} from {time_1} to {time_2}?\"\n",
    "# )\n",
    "# def ctq_max_value_3_choice_range(category, category_1, category_2, category_3, quantity, time_1, time_2, **_):\n",
    "#     return {\n",
    "#         \"identify\": category,\n",
    "#         \"filter\": [\n",
    "#             {\"attr\": category, \"op\": \"in\", \"value\": [category_1, category_2, category_3]},\n",
    "#             {\"attr\": quantity, \"op\": \"=\", \"value\": {\"operation\": \"max\", \"attribute\": quantity}},\n",
    "#             {\"attr\": \"time\", \"op\": \">=\", \"value\": time_1},\n",
    "#             {\"attr\": \"time\", \"op\": \"<=\", \"value\": time_2},\n",
    "#         ],\n",
    "#     }\n",
    "\n",
    "# @template(\n",
    "#     \"Among {category_1} and {category_2}, what is the {category} with higher {quantity} from {time_1} to {time_2}?\"\n",
    "# )\n",
    "# def ctq_top_value_2_choice_range(category, category_1, category_2, rank_1, quantity, time_1, time_2, **_):\n",
    "#     return {\n",
    "#         \"identify\": category,\n",
    "#         \"filter\": [\n",
    "#             {\"attr\": category, \"op\": \"in\", \"value\": [category_1, category_2]},\n",
    "#             {\"attr\": {'operation': 'rank', 'attribute': quantity}, \"op\": \"in\", \"value\": [1, rank_1]},\n",
    "#             {\"attr\": \"time\", \"op\": \">=\", \"value\": time_1},\n",
    "#             {\"attr\": \"time\", \"op\": \"<=\", \"value\": time_2},\n",
    "#         ],\n",
    "#     }\n",
    "\n",
    "# @template(\n",
    "#     \"What is the {category} with the top-{rank_1} {quantity} from {time_1} to {time_2}?\"\n",
    "# )\n",
    "# def ctq_top_3_choice_range(category, rank_1, quantity, time_1, time_2, **_):\n",
    "\n",
    "#     if rank_1 == 1:\n",
    "#         op = '='\n",
    "#         value = 1\n",
    "\n",
    "#     return {\n",
    "#         \"identify\": category,\n",
    "#         \"filter\": [\n",
    "#             {\"attr\": {'operation': 'rank', 'attribute': quantity}, \"op\": \"in\", \"value\": [1, rank_1]},\n",
    "#             {\"attr\": \"time\", \"op\": \">=\", \"value\": time_1},\n",
    "#             {\"attr\": \"time\", \"op\": \"<=\", \"value\": time_2},\n",
    "#         ],\n",
    "#     }\n",
    "\n",
    "\n",
    "# @template(\n",
    "#     \"What is the {category} with the top-{rank_1} {quantity} in {time_1}?\"\n",
    "# )\n",
    "# def ctq_top_3_choice_single_time(category, rank_1, quantity, time_1, **_):\n",
    "#     return {\n",
    "#         \"identify\": category,\n",
    "#         \"filter\": [\n",
    "#             {\"attr\": {'operation': 'rank', 'attribute': quantity}, \"op\": \"in\", \"value\": [1, rank_1]},\n",
    "#             {\"attr\": \"time\", \"op\": \"=\", \"value\": time_1}\n",
    "#         ],\n",
    "#     }\n",
    "\n",
    "@template(\n",
    "    \"What is the average {quantity}?\"\n",
    ")\n",
    "def avg_quan(quantity, **_):\n",
    "    return {\n",
    "        \"identify\": {\n",
    "            \"operation\": \"avg\",\n",
    "            \"attribute\": quantity\n",
    "        }\n",
    "    }\n",
    "\n",
    "@template(\n",
    "    \"What is the average {quantity} from {time_1} to {time_2}?\"\n",
    ")\n",
    "def avg_quan_time_range(quantity, time_1, time_2, **_):\n",
    "    return {\n",
    "        \"identify\": {\n",
    "            \"operation\": \"avg\",\n",
    "            \"attribute\": quantity\n",
    "        },\n",
    "        \"filter\": [\n",
    "            {\"attr\": \"time\", \"op\": \">=\", \"value\": time_1},\n",
    "            {\"attr\": \"time\", \"op\": \"<=\", \"value\": time_2}\n",
    "        ]\n",
    "    }\n",
    "\n",
    "@template(\n",
    "    \"What is the average {quantity} in {time_1}?\"\n",
    ")\n",
    "def avg_quan_time_single_range(quantity, time_1, **_):\n",
    "    return {\n",
    "        \"identify\": {\n",
    "            \"aggregate\": \"avg\",\n",
    "            \"attribute\": quantity\n",
    "        },\n",
    "        \"filter\": [\n",
    "            {\"attr\": \"time\", \"op\": \"=\", \"value\": time_1}\n",
    "        ]\n",
    "    }\n"
   ]
  },
  {
   "cell_type": "code",
   "execution_count": 29,
   "metadata": {},
   "outputs": [],
   "source": [
    "import random\n",
    "from typing import Callable, Tuple\n",
    "\n",
    "\n",
    "def construct_question(attributes, template: Tuple[str, Callable]):\n",
    "    c, t, q = attributes\n",
    "    sentence_t, query_t = template\n",
    "\n",
    "    params = {\n",
    "        \"category\": c[\"name\"],\n",
    "        \"quantity\": q[\"name\"],\n",
    "        \"time_1\": t[\"span\"][0],\n",
    "        \"time_2\": t[\"span\"][1],\n",
    "    }\n",
    "    params[\"category_1\"], params[\"category_2\"], params['category_3'] = random.sample(c[\"choice\"], k=3)\n",
    "    params['rank_1'] = random.randint(1, 3)\n",
    "\n",
    "    sentence = sentence_t.format(**params).replace(\"_\", \" \")\n",
    "    query = query_t(**params)\n",
    "\n",
    "    question = f\"\"\"\n",
    "    请用另一种说法表达以下问题：\n",
    "    {sentence}\n",
    "    \"\"\".strip()\n",
    "\n",
    "    sentence_refined = ''.join(\n",
    "        chat_complete(\n",
    "            system=\"You are a helpful assistant that has a good command of language.\",\n",
    "            question=question,\n",
    "            proxy=\"http://127.0.0.1:7890\",\n",
    "        )\n",
    "    )\n",
    "\n",
    "    return sentence, sentence_refined, query\n"
   ]
  },
  {
   "cell_type": "code",
   "execution_count": 30,
   "metadata": {},
   "outputs": [
    {
     "name": "stderr",
     "output_type": "stream",
     "text": [
      "Success: 0, Error: 0:   0%|          | 0/50 [00:00<?, ?it/s]"
     ]
    },
    {
     "name": "stdout",
     "output_type": "stream",
     "text": [
      "{'type': 'categorical', 'name': 'crime_type', 'choice': ['Assault', 'Burglary', 'Robbery', 'Larceny-Theft', 'Rape', 'Homicide', 'Drug Offenses', 'Fraud', 'Vandalism', 'Motor Vehicle Theft']} {'type': 'temporal', 'span': ['1990', '2021']} {'type': 'quantitative', 'name': 'number_of_crimes_reported', 'range': ['0', '100000']} ('What is the average {quantity} from {time_1} to {time_2}?', <function avg_quan_time_range at 0x147251cf0>)\n"
     ]
    },
    {
     "name": "stderr",
     "output_type": "stream",
     "text": [
      "Success: 1, Error: 0:   2%|▏         | 1/50 [00:03<02:49,  3.46s/it]"
     ]
    },
    {
     "name": "stdout",
     "output_type": "stream",
     "text": [
      "{'identify': {'operation': 'avg', 'attribute': 'number_of_crimes_reported'}, 'filter': [{'attr': 'time', 'op': '>=', 'value': '1990'}, {'attr': 'time', 'op': '<=', 'value': '2021'}]}\n",
      "{'type': 'categorical', 'name': 'brand', 'choice': ['Chanel', 'Louis Vuitton', 'Gucci', 'Prada', 'Dior', 'Yves Saint Laurent', 'Hermes', 'Burberry', 'Versace']} {'type': 'temporal', 'span': ['2010', '2021']} {'type': 'quantitative', 'name': 'price', 'range': ['100', '5000']} ('What is the average {quantity}?', <function avg_quan at 0x1472524d0>)\n"
     ]
    },
    {
     "name": "stderr",
     "output_type": "stream",
     "text": [
      "Success: 2, Error: 0:   4%|▍         | 2/50 [00:05<02:05,  2.61s/it]"
     ]
    },
    {
     "name": "stdout",
     "output_type": "stream",
     "text": [
      "{'identify': {'operation': 'avg', 'attribute': 'price'}}\n",
      "{'type': 'categorical', 'name': 'country', 'choice': ['USA', 'Russia', 'China', 'UK', 'Germany', 'France', 'Japan', 'North Korea']} {'type': 'temporal', 'span': ['1914', '1945']} {'type': 'quantitative', 'name': 'military expenditure', 'range': ['0.1', '2000']} ('What is the average {quantity} from {time_1} to {time_2}?', <function avg_quan_time_range at 0x147251cf0>)\n"
     ]
    },
    {
     "name": "stderr",
     "output_type": "stream",
     "text": [
      "Success: 3, Error: 0:   6%|▌         | 3/50 [00:09<02:25,  3.09s/it]"
     ]
    },
    {
     "name": "stdout",
     "output_type": "stream",
     "text": [
      "{'identify': {'operation': 'avg', 'attribute': 'military expenditure'}, 'filter': [{'attr': 'time', 'op': '>=', 'value': '1914'}, {'attr': 'time', 'op': '<=', 'value': '1945'}]}\n",
      "{'type': 'categorical', 'name': 'animal type', 'choice': ['dogs', 'cats', 'birds', 'fish', 'rabbits']} {'type': 'temporal', 'span': ['2010', '2022']} {'type': 'quantitative', 'name': 'animal count', 'range': ['50', '5000']} ('What is the average {quantity}?', <function avg_quan at 0x1472524d0>)\n"
     ]
    },
    {
     "name": "stderr",
     "output_type": "stream",
     "text": [
      "Success: 4, Error: 0:   8%|▊         | 4/50 [00:11<02:13,  2.90s/it]"
     ]
    },
    {
     "name": "stdout",
     "output_type": "stream",
     "text": [
      "{'identify': {'operation': 'avg', 'attribute': 'animal count'}}\n",
      "{'type': 'categorical', 'name': 'fashion brand', 'choice': ['Gucci', 'Chanel', 'Louis Vuitton', 'Prada', 'Dior', 'Hermès', 'Saint Laurent', 'Versace', 'Burberry', 'Balenciaga']} {'type': 'temporal', 'span': ['2010', '2022']} {'type': 'quantitative', 'name': 'price range', 'range': ['100', '5000']} ('What is the average {quantity} in {time_1}?', <function avg_quan_time_single_range at 0x1472f9360>)\n"
     ]
    },
    {
     "name": "stderr",
     "output_type": "stream",
     "text": [
      "Success: 5, Error: 0:  10%|█         | 5/50 [00:14<02:14,  2.99s/it]"
     ]
    },
    {
     "name": "stdout",
     "output_type": "stream",
     "text": [
      "{'identify': {'aggregate': 'avg', 'attribute': 'price range'}, 'filter': [{'attr': 'time', 'op': '=', 'value': '2010'}]}\n",
      "{'type': 'categorical', 'name': 'league', 'choice': ['NBA', 'NFL', 'MLB', 'NHL', 'MLS']} {'type': 'temporal', 'span': ['2000', '2021']} {'type': 'quantitative', 'name': 'salary', 'range': ['10000', '500000']} ('What is the average {quantity} from {time_1} to {time_2}?', <function avg_quan_time_range at 0x147251cf0>)\n"
     ]
    },
    {
     "name": "stderr",
     "output_type": "stream",
     "text": [
      "Success: 6, Error: 0:  12%|█▏        | 6/50 [00:17<02:06,  2.87s/it]"
     ]
    },
    {
     "name": "stdout",
     "output_type": "stream",
     "text": [
      "{'identify': {'operation': 'avg', 'attribute': 'salary'}, 'filter': [{'attr': 'time', 'op': '>=', 'value': '2000'}, {'attr': 'time', 'op': '<=', 'value': '2021'}]}\n",
      "{'type': 'categorical', 'name': 'race', 'choice': ['White', 'Black', 'Asian', 'Hispanic', 'Native American', 'Pacific Islander']} {'type': 'temporal', 'span': ['1990', '2020']} {'type': 'quantitative', 'name': 'income', 'range': ['0', '100000']} ('What is the average {quantity} from {time_1} to {time_2}?', <function avg_quan_time_range at 0x147251cf0>)\n"
     ]
    },
    {
     "name": "stderr",
     "output_type": "stream",
     "text": [
      "Success: 7, Error: 0:  14%|█▍        | 7/50 [00:20<02:07,  2.96s/it]"
     ]
    },
    {
     "name": "stdout",
     "output_type": "stream",
     "text": [
      "{'identify': {'operation': 'avg', 'attribute': 'income'}, 'filter': [{'attr': 'time', 'op': '>=', 'value': '1990'}, {'attr': 'time', 'op': '<=', 'value': '2020'}]}\n",
      "{'type': 'categorical', 'name': 'country', 'choice': ['USA', 'Russia', 'China', 'UK', 'Germany', 'France', 'Japan', 'North Korea']} {'type': 'temporal', 'span': ['1914', '1945']} {'type': 'quantitative', 'name': 'military expenditure', 'range': ['0.1', '2000']} ('What is the average {quantity}?', <function avg_quan at 0x1472524d0>)\n"
     ]
    },
    {
     "name": "stderr",
     "output_type": "stream",
     "text": [
      "Success: 8, Error: 0:  16%|█▌        | 8/50 [00:30<03:30,  5.02s/it]"
     ]
    },
    {
     "name": "stdout",
     "output_type": "stream",
     "text": [
      "{'identify': {'operation': 'avg', 'attribute': 'military expenditure'}}\n",
      "{'type': 'categorical', 'name': 'media type', 'choice': ['TV', 'radio', 'newspaper', 'magazine', 'online news', 'social media', 'podcast']} {'type': 'temporal', 'span': ['2015', '2021']} {'type': 'quantitative', 'name': 'sales', 'range': ['500', '10000']} ('What is the average {quantity} from {time_1} to {time_2}?', <function avg_quan_time_range at 0x147251cf0>)\n"
     ]
    },
    {
     "name": "stderr",
     "output_type": "stream",
     "text": [
      "Success: 9, Error: 0:  18%|█▊        | 9/50 [00:33<03:02,  4.45s/it]"
     ]
    },
    {
     "name": "stdout",
     "output_type": "stream",
     "text": [
      "{'identify': {'operation': 'avg', 'attribute': 'sales'}, 'filter': [{'attr': 'time', 'op': '>=', 'value': '2015'}, {'attr': 'time', 'op': '<=', 'value': '2021'}]}\n",
      "{'type': 'categorical', 'name': 'crime_type', 'choice': ['Assault', 'Burglary', 'Robbery', 'Drug offenses', 'Motor theft']} {'type': 'temporal', 'span': ['2010', '2021']} {'type': 'quantitative', 'name': 'number_of_crimes', 'range': ['10', '100000']} ('What is the average {quantity} from {time_1} to {time_2}?', <function avg_quan_time_range at 0x147251cf0>)\n"
     ]
    },
    {
     "name": "stderr",
     "output_type": "stream",
     "text": [
      "Success: 10, Error: 0:  20%|██        | 10/50 [00:36<02:41,  4.03s/it]"
     ]
    },
    {
     "name": "stdout",
     "output_type": "stream",
     "text": [
      "{'identify': {'operation': 'avg', 'attribute': 'number_of_crimes'}, 'filter': [{'attr': 'time', 'op': '>=', 'value': '2010'}, {'attr': 'time', 'op': '<=', 'value': '2021'}]}\n",
      "{'type': 'categorical', 'name': 'war', 'choice': ['World War I', 'World War II', 'Korean War', 'Vietnam War', 'Gulf War', 'Iraq War']} {'type': 'temporal', 'span': ['1914', '2019']} {'type': 'quantitative', 'name': 'casualties', 'range': ['100', '8000000']} ('What is the average {quantity} from {time_1} to {time_2}?', <function avg_quan_time_range at 0x147251cf0>)\n"
     ]
    },
    {
     "name": "stderr",
     "output_type": "stream",
     "text": [
      "Success: 11, Error: 0:  22%|██▏       | 11/50 [00:40<02:32,  3.92s/it]"
     ]
    },
    {
     "name": "stdout",
     "output_type": "stream",
     "text": [
      "{'identify': {'operation': 'avg', 'attribute': 'casualties'}, 'filter': [{'attr': 'time', 'op': '>=', 'value': '1914'}, {'attr': 'time', 'op': '<=', 'value': '2019'}]}\n",
      "{'type': 'categorical', 'name': 'type of relationship', 'choice': ['friendship', 'romantic partnership', 'family', 'professional relationships']} {'type': 'temporal', 'span': ['less than 1 year', '1-5 years', '5-10 years', 'more than 10 years']} {'type': 'quantitative', 'name': 'frequency of communication', 'range': ['rarely', 'occasionally', 'regularly', 'daily']} ('What is the average {quantity} from {time_1} to {time_2}?', <function avg_quan_time_range at 0x147251cf0>)\n"
     ]
    },
    {
     "name": "stderr",
     "output_type": "stream",
     "text": [
      "Success: 12, Error: 0:  24%|██▍       | 12/50 [00:42<02:13,  3.53s/it]"
     ]
    },
    {
     "name": "stdout",
     "output_type": "stream",
     "text": [
      "{'identify': {'operation': 'avg', 'attribute': 'frequency of communication'}, 'filter': [{'attr': 'time', 'op': '>=', 'value': 'less than 1 year'}, {'attr': 'time', 'op': '<=', 'value': '1-5 years'}]}\n",
      "{'type': 'categorical', 'name': 'genre', 'choice': ['Comedy', 'Drama', 'Action', 'Horror', 'Romance', 'Mystery', 'Documentary', 'Science Fiction']} {'type': 'temporal', 'span': ['2000', '2022']} {'type': 'quantitative', 'name': 'box office revenue', 'range': ['0', '1000000000']} ('What is the average {quantity}?', <function avg_quan at 0x1472524d0>)\n"
     ]
    },
    {
     "name": "stderr",
     "output_type": "stream",
     "text": [
      "Success: 13, Error: 0:  26%|██▌       | 13/50 [00:45<02:06,  3.41s/it]"
     ]
    },
    {
     "name": "stdout",
     "output_type": "stream",
     "text": [
      "{'identify': {'operation': 'avg', 'attribute': 'box office revenue'}}\n",
      "{'type': 'categorical', 'name': 'vehicle', 'choice': ['car', 'truck', 'motorcycle', 'bus', 'train', 'ship']} {'type': 'temporal', 'span': ['2020Q1', '2022Q4']} {'type': 'quantitative', 'name': 'CO2 emission', 'range': ['1', '1000']} ('What is the average {quantity} in {time_1}?', <function avg_quan_time_single_range at 0x1472f9360>)\n"
     ]
    },
    {
     "name": "stderr",
     "output_type": "stream",
     "text": [
      "Success: 14, Error: 0:  28%|██▊       | 14/50 [00:48<01:59,  3.33s/it]"
     ]
    },
    {
     "name": "stdout",
     "output_type": "stream",
     "text": [
      "{'identify': {'aggregate': 'avg', 'attribute': 'CO2 emission'}, 'filter': [{'attr': 'time', 'op': '=', 'value': '2020Q1'}]}\n",
      "{'type': 'categorical', 'name': 'fruit', 'choice': ['Apple', 'Orange', 'Banana', 'Grapes', 'Watermelon', 'Pineapple', 'Strawberry', 'Mango', 'Papaya']} {'type': 'temporal', 'span': ['2000', '2021']} {'type': 'quantitative', 'name': 'price', 'range': ['1', '50']} ('What is the average {quantity}?', <function avg_quan at 0x1472524d0>)\n"
     ]
    },
    {
     "name": "stderr",
     "output_type": "stream",
     "text": [
      "Success: 15, Error: 0:  30%|███       | 15/50 [00:51<01:43,  2.96s/it]"
     ]
    },
    {
     "name": "stdout",
     "output_type": "stream",
     "text": [
      "{'identify': {'operation': 'avg', 'attribute': 'price'}}\n",
      "{'type': 'categorical', 'name': 'exercise_type', 'choice': ['Aerobic', 'Strength', 'Flexibility', 'Balance']} {'type': 'temporal', 'span': ['2010', '2023']} {'type': 'quantitative', 'name': 'Physical Health Index', 'range': ['0', '100']} ('What is the average {quantity}?', <function avg_quan at 0x1472524d0>)\n"
     ]
    },
    {
     "name": "stderr",
     "output_type": "stream",
     "text": [
      "Success: 16, Error: 0:  32%|███▏      | 16/50 [00:53<01:37,  2.86s/it]"
     ]
    },
    {
     "name": "stdout",
     "output_type": "stream",
     "text": [
      "{'identify': {'operation': 'avg', 'attribute': 'Physical Health Index'}}\n",
      "{'type': 'categorical', 'name': 'major', 'choice': ['Computer Science', 'Mathematics', 'History', 'Psychology', 'Biology', 'Physics', 'English', 'Chemistry']} {'type': 'temporal', 'span': ['2000', '2021']} {'type': 'quantitative', 'name': 'GPA', 'range': ['2.0', '4.0']} ('What is the average {quantity} in {time_1}?', <function avg_quan_time_single_range at 0x1472f9360>)\n"
     ]
    },
    {
     "name": "stderr",
     "output_type": "stream",
     "text": [
      "Success: 17, Error: 0:  34%|███▍      | 17/50 [00:56<01:31,  2.79s/it]"
     ]
    },
    {
     "name": "stdout",
     "output_type": "stream",
     "text": [
      "{'identify': {'aggregate': 'avg', 'attribute': 'GPA'}, 'filter': [{'attr': 'time', 'op': '=', 'value': '2000'}]}\n",
      "{'type': 'categorical', 'name': 'industry', 'choice': ['Technology', 'Finance', 'Healthcare', 'Retail', 'Energy', 'Manufacturing']} {'type': 'temporal', 'span': ['2000', '2021']} {'type': 'quantitative', 'name': 'Revenue', 'range': ['100', '5000']} ('What is the average {quantity} in {time_1}?', <function avg_quan_time_single_range at 0x1472f9360>)\n"
     ]
    },
    {
     "name": "stderr",
     "output_type": "stream",
     "text": [
      "Success: 18, Error: 0:  36%|███▌      | 18/50 [00:58<01:27,  2.74s/it]"
     ]
    },
    {
     "name": "stdout",
     "output_type": "stream",
     "text": [
      "{'identify': {'aggregate': 'avg', 'attribute': 'Revenue'}, 'filter': [{'attr': 'time', 'op': '=', 'value': '2000'}]}\n",
      "{'type': 'categorical', 'name': 'media_type', 'choice': ['TV', 'print', 'radio', 'online']} {'type': 'temporal', 'span': ['2000', '2020']} {'type': 'quantitative', 'name': 'audience_reach', 'range': ['1000', '1000000']} ('What is the average {quantity}?', <function avg_quan at 0x1472524d0>)\n"
     ]
    },
    {
     "name": "stderr",
     "output_type": "stream",
     "text": [
      "Success: 19, Error: 1:  38%|███▊      | 19/50 [01:02<01:28,  2.86s/it]"
     ]
    },
    {
     "name": "stdout",
     "output_type": "stream",
     "text": [
      "{'identify': {'operation': 'avg', 'attribute': 'audience_reach'}}\n",
      "{'type': 'categorical', 'name': 'gender', 'choice': ['Female', 'Male']} {'type': 'temporal', 'span': ['1940', '2025']} {'type': 'quantitative', 'name': 'income', 'range': ['0', '1000000']} ('What is the average {quantity} from {time_1} to {time_2}?', <function avg_quan_time_range at 0x147251cf0>)\n",
      "{'type': 'categorical', 'name': 'region', 'choice': ['North America', 'Europe', 'Asia', 'South America', 'Africa', 'Oceania']} {'type': 'temporal', 'span': ['1970', '2021']} {'type': 'quantitative', 'name': 'CO2 Emissions', 'range': ['1', '100']} ('What is the average {quantity}?', <function avg_quan at 0x1472524d0>)\n"
     ]
    },
    {
     "name": "stderr",
     "output_type": "stream",
     "text": [
      "Success: 20, Error: 1:  40%|████      | 20/50 [01:05<01:28,  2.94s/it]"
     ]
    },
    {
     "name": "stdout",
     "output_type": "stream",
     "text": [
      "{'identify': {'operation': 'avg', 'attribute': 'CO2 Emissions'}}\n",
      "{'type': 'categorical', 'name': 'government type', 'choice': ['democracy', 'monarchy', 'dictatorship', 'oligarchy', 'anarchy', 'theocracy']} {'type': 'temporal', 'span': ['1950', '2023']} {'type': 'quantitative', 'name': 'corruption perception', 'range': ['0', '100']} ('What is the average {quantity} from {time_1} to {time_2}?', <function avg_quan_time_range at 0x147251cf0>)\n"
     ]
    },
    {
     "name": "stderr",
     "output_type": "stream",
     "text": [
      "Success: 21, Error: 1:  42%|████▏     | 21/50 [01:30<04:38,  9.62s/it]"
     ]
    },
    {
     "name": "stdout",
     "output_type": "stream",
     "text": [
      "{'identify': {'operation': 'avg', 'attribute': 'corruption perception'}, 'filter': [{'attr': 'time', 'op': '>=', 'value': '1950'}, {'attr': 'time', 'op': '<=', 'value': '2023'}]}\n",
      "{'type': 'categorical', 'name': 'industry', 'choice': ['Technology', 'Finance', 'Healthcare', 'Energy', 'Retail', 'Manufacturing', 'Real Estate', 'Transportation']} {'type': 'temporal', 'span': ['2010', '2021']} {'type': 'quantitative', 'name': 'Net Worth', 'range': ['1000', '1000000']} ('What is the average {quantity}?', <function avg_quan at 0x1472524d0>)\n"
     ]
    },
    {
     "name": "stderr",
     "output_type": "stream",
     "text": [
      "Success: 22, Error: 1:  44%|████▍     | 22/50 [01:33<03:30,  7.52s/it]"
     ]
    },
    {
     "name": "stdout",
     "output_type": "stream",
     "text": [
      "{'identify': {'operation': 'avg', 'attribute': 'Net Worth'}}\n",
      "{'type': 'categorical', 'name': 'gender', 'choice': ['Male', 'Female', 'Transgender', 'Non-binary', 'Genderqueer', 'Bigender']} {'type': 'temporal', 'span': ['1950', '2021']} {'type': 'quantitative', 'name': 'Salary', 'range': ['15000', '150000']} ('What is the average {quantity} from {time_1} to {time_2}?', <function avg_quan_time_range at 0x147251cf0>)\n"
     ]
    },
    {
     "name": "stderr",
     "output_type": "stream",
     "text": [
      "Success: 23, Error: 1:  46%|████▌     | 23/50 [01:39<03:17,  7.33s/it]"
     ]
    },
    {
     "name": "stdout",
     "output_type": "stream",
     "text": [
      "{'identify': {'operation': 'avg', 'attribute': 'Salary'}, 'filter': [{'attr': 'time', 'op': '>=', 'value': '1950'}, {'attr': 'time', 'op': '<=', 'value': '2021'}]}\n",
      "{'type': 'categorical', 'name': 'education level', 'choice': ['High School', \"Bachelor's Degree\", \"Master's Degree\", 'PhD']} {'type': 'temporal', 'span': ['2000', '2021']} {'type': 'quantitative', 'name': 'Salary', 'range': ['15000', '150000']} ('What is the average {quantity} from {time_1} to {time_2}?', <function avg_quan_time_range at 0x147251cf0>)\n"
     ]
    },
    {
     "name": "stderr",
     "output_type": "stream",
     "text": [
      "Success: 24, Error: 1:  48%|████▊     | 24/50 [01:42<02:37,  6.05s/it]"
     ]
    },
    {
     "name": "stdout",
     "output_type": "stream",
     "text": [
      "{'identify': {'operation': 'avg', 'attribute': 'Salary'}, 'filter': [{'attr': 'time', 'op': '>=', 'value': '2000'}, {'attr': 'time', 'op': '<=', 'value': '2021'}]}\n",
      "{'type': 'categorical', 'name': 'Continent', 'choice': ['Asia', 'Africa', 'Europe', 'North America', 'South America', 'Oceania']} {'type': 'temporal', 'span': ['1990', '2021']} {'type': 'quantitative', 'name': 'Democracy Index', 'range': ['0.1', '10']} ('What is the average {quantity} in {time_1}?', <function avg_quan_time_single_range at 0x1472f9360>)\n"
     ]
    },
    {
     "name": "stderr",
     "output_type": "stream",
     "text": [
      "Success: 25, Error: 1:  50%|█████     | 25/50 [01:45<02:05,  5.02s/it]"
     ]
    },
    {
     "name": "stdout",
     "output_type": "stream",
     "text": [
      "{'identify': {'aggregate': 'avg', 'attribute': 'Democracy Index'}, 'filter': [{'attr': 'time', 'op': '=', 'value': '1990'}]}\n",
      "{'type': 'categorical', 'name': 'destination', 'choice': ['Thailand', 'Maldives', 'New Zealand', 'Japan', 'Italy', 'Brazil', 'Canada', 'Egypt', 'India']} {'type': 'temporal', 'span': ['2010', '2023']} {'type': 'quantitative', 'name': 'budget', 'range': ['100', '10000']} ('What is the average {quantity} from {time_1} to {time_2}?', <function avg_quan_time_range at 0x147251cf0>)\n"
     ]
    },
    {
     "name": "stderr",
     "output_type": "stream",
     "text": [
      "Success: 26, Error: 1:  52%|█████▏    | 26/50 [01:48<01:43,  4.30s/it]"
     ]
    },
    {
     "name": "stdout",
     "output_type": "stream",
     "text": [
      "{'identify': {'operation': 'avg', 'attribute': 'budget'}, 'filter': [{'attr': 'time', 'op': '>=', 'value': '2010'}, {'attr': 'time', 'op': '<=', 'value': '2023'}]}\n",
      "{'type': 'categorical', 'name': 'conflict', 'choice': ['World War I', 'World War II', 'Vietnam War', 'Korean War', 'Iraq War', 'Syrian Civil War']} {'type': 'temporal', 'span': ['1914', '2022']} {'type': 'quantitative', 'name': 'Casualties', 'range': ['1000', '1000000']} ('What is the average {quantity}?', <function avg_quan at 0x1472524d0>)\n"
     ]
    },
    {
     "name": "stderr",
     "output_type": "stream",
     "text": [
      "Success: 27, Error: 1:  54%|█████▍    | 27/50 [01:51<01:30,  3.95s/it]"
     ]
    },
    {
     "name": "stdout",
     "output_type": "stream",
     "text": [
      "{'identify': {'operation': 'avg', 'attribute': 'Casualties'}}\n",
      "{'type': 'categorical', 'name': 'species', 'choice': ['dogs', 'cats', 'birds', 'fish', 'rabbits', 'hamsters', 'guinea pigs', 'reptiles', 'wildlife', 'farm animals']} {'type': 'temporal', 'span': ['2000', '2022']} {'type': 'quantitative', 'name': 'number of protected animals', 'range': ['1000', '1000000']} ('What is the average {quantity} in {time_1}?', <function avg_quan_time_single_range at 0x1472f9360>)\n"
     ]
    },
    {
     "name": "stderr",
     "output_type": "stream",
     "text": [
      "Success: 28, Error: 1:  56%|█████▌    | 28/50 [01:54<01:21,  3.71s/it]"
     ]
    },
    {
     "name": "stdout",
     "output_type": "stream",
     "text": [
      "{'identify': {'aggregate': 'avg', 'attribute': 'number of protected animals'}, 'filter': [{'attr': 'time', 'op': '=', 'value': '2000'}]}\n",
      "{'type': 'categorical', 'name': 'type of building', 'choice': ['commercial', 'residential', 'industrial', 'governmental']} {'type': 'temporal', 'span': ['2000', '2021']} {'type': 'quantitative', 'name': 'energy consumption per square meter', 'range': ['50', '500']} ('What is the average {quantity} in {time_1}?', <function avg_quan_time_single_range at 0x1472f9360>)\n"
     ]
    },
    {
     "name": "stderr",
     "output_type": "stream",
     "text": [
      "Success: 29, Error: 1:  58%|█████▊    | 29/50 [01:57<01:11,  3.38s/it]"
     ]
    },
    {
     "name": "stdout",
     "output_type": "stream",
     "text": [
      "{'identify': {'aggregate': 'avg', 'attribute': 'energy consumption per square meter'}, 'filter': [{'attr': 'time', 'op': '=', 'value': '2000'}]}\n",
      "{'type': 'categorical', 'name': 'genre', 'choice': ['Comedy', 'Drama', 'Action', 'Horror', 'Romance', 'Mystery', 'Documentary', 'Science Fiction']} {'type': 'temporal', 'span': ['2000', '2022']} {'type': 'quantitative', 'name': 'box office revenue', 'range': ['0', '1000000000']} ('What is the average {quantity} in {time_1}?', <function avg_quan_time_single_range at 0x1472f9360>)\n"
     ]
    },
    {
     "name": "stderr",
     "output_type": "stream",
     "text": [
      "Success: 30, Error: 1:  60%|██████    | 30/50 [02:00<01:06,  3.31s/it]"
     ]
    },
    {
     "name": "stdout",
     "output_type": "stream",
     "text": [
      "{'identify': {'aggregate': 'avg', 'attribute': 'box office revenue'}, 'filter': [{'attr': 'time', 'op': '=', 'value': '2000'}]}\n",
      "{'type': 'categorical', 'name': 'relationship_status', 'choice': ['Married', 'Single', 'Divorced', 'Widowed', 'Separated']} {'type': 'temporal', 'span': ['1970', '2021']} {'type': 'quantitative', 'name': 'number_of_children', 'range': ['0', '5']} ('What is the average {quantity} from {time_1} to {time_2}?', <function avg_quan_time_range at 0x147251cf0>)\n"
     ]
    },
    {
     "name": "stderr",
     "output_type": "stream",
     "text": [
      "Success: 31, Error: 1:  62%|██████▏   | 31/50 [02:03<01:02,  3.26s/it]"
     ]
    },
    {
     "name": "stdout",
     "output_type": "stream",
     "text": [
      "{'identify': {'operation': 'avg', 'attribute': 'number_of_children'}, 'filter': [{'attr': 'time', 'op': '>=', 'value': '1970'}, {'attr': 'time', 'op': '<=', 'value': '2021'}]}\n",
      "{'type': 'categorical', 'name': 'country', 'choice': ['Sweden', 'Iceland', 'Norway', 'Finland', 'Denmark', 'Netherlands', 'Switzerland', 'Belgium', 'Luxembourg', 'Germany']} {'type': 'temporal', 'span': ['2005', '2020']} {'type': 'quantitative', 'name': 'Gender Equality Index', 'range': ['20', '90']} ('What is the average {quantity} from {time_1} to {time_2}?', <function avg_quan_time_range at 0x147251cf0>)\n"
     ]
    },
    {
     "name": "stderr",
     "output_type": "stream",
     "text": [
      "Success: 32, Error: 1:  64%|██████▍   | 32/50 [02:06<00:58,  3.23s/it]"
     ]
    },
    {
     "name": "stdout",
     "output_type": "stream",
     "text": [
      "{'identify': {'operation': 'avg', 'attribute': 'Gender Equality Index'}, 'filter': [{'attr': 'time', 'op': '>=', 'value': '2005'}, {'attr': 'time', 'op': '<=', 'value': '2020'}]}\n",
      "{'type': 'categorical', 'name': 'genre', 'choice': ['Pop', 'Rock', 'Hip Hop', 'Electronic', 'Jazz', 'Classical', 'Reggae']} {'type': 'temporal', 'span': ['1950', '2023']} {'type': 'quantitative', 'name': 'sales', 'range': ['1', '1000']} ('What is the average {quantity} in {time_1}?', <function avg_quan_time_single_range at 0x1472f9360>)\n"
     ]
    },
    {
     "name": "stderr",
     "output_type": "stream",
     "text": [
      "Success: 33, Error: 1:  66%|██████▌   | 33/50 [02:08<00:49,  2.90s/it]"
     ]
    },
    {
     "name": "stdout",
     "output_type": "stream",
     "text": [
      "{'identify': {'aggregate': 'avg', 'attribute': 'sales'}, 'filter': [{'attr': 'time', 'op': '=', 'value': '1950'}]}\n",
      "{'type': 'categorical', 'name': 'mathematical concept', 'choice': ['Calculus', 'Linear Algebra', 'Statistics', 'Number Theory', 'Topology', 'Graph Theory', 'Combinatorics', 'Differential Equations']} {'type': 'temporal', 'span': ['1940s', '2020s']} {'type': 'quantitative', 'name': 'number of publications', 'range': ['0', '5000']} ('What is the average {quantity} from {time_1} to {time_2}?', <function avg_quan_time_range at 0x147251cf0>)\n"
     ]
    },
    {
     "name": "stderr",
     "output_type": "stream",
     "text": [
      "Success: 34, Error: 1:  68%|██████▊   | 34/50 [02:11<00:47,  2.97s/it]"
     ]
    },
    {
     "name": "stdout",
     "output_type": "stream",
     "text": [
      "{'identify': {'operation': 'avg', 'attribute': 'number of publications'}, 'filter': [{'attr': 'time', 'op': '>=', 'value': '1940s'}, {'attr': 'time', 'op': '<=', 'value': '2020s'}]}\n",
      "{'type': 'categorical', 'name': 'gender', 'choice': ['Male', 'Female', 'Transgender', 'Non-binary', 'Genderqueer', 'Bigender']} {'type': 'temporal', 'span': ['1950', '2021']} {'type': 'quantitative', 'name': 'Salary', 'range': ['15000', '150000']} ('What is the average {quantity}?', <function avg_quan at 0x1472524d0>)\n"
     ]
    },
    {
     "name": "stderr",
     "output_type": "stream",
     "text": [
      "Success: 35, Error: 1:  70%|███████   | 35/50 [02:13<00:40,  2.70s/it]"
     ]
    },
    {
     "name": "stdout",
     "output_type": "stream",
     "text": [
      "{'identify': {'operation': 'avg', 'attribute': 'Salary'}}\n",
      "{'type': 'categorical', 'name': 'origin_country', 'choice': ['China', 'India', 'Mexico', 'Philippines', 'Vietnam', 'El Salvador', 'Honduras', 'Guatemala', 'Nigeria']} {'type': 'temporal', 'span': ['2000', '2020']} {'type': 'quantitative', 'name': 'number_of_immigrants', 'range': ['0', '1000000']} ('What is the average {quantity}?', <function avg_quan at 0x1472524d0>)\n"
     ]
    },
    {
     "name": "stderr",
     "output_type": "stream",
     "text": [
      "Success: 36, Error: 1:  72%|███████▏  | 36/50 [02:16<00:37,  2.70s/it]"
     ]
    },
    {
     "name": "stdout",
     "output_type": "stream",
     "text": [
      "{'identify': {'operation': 'avg', 'attribute': 'number_of_immigrants'}}\n",
      "{'type': 'categorical', 'name': 'activity_type', 'choice': ['Running', 'Swimming', 'Cycling', 'Yoga', 'Weightlifting', 'Dancing']} {'type': 'temporal', 'span': ['2015', '2021']} {'type': 'quantitative', 'name': 'Calories_burned', 'range': ['50', '1000']} ('What is the average {quantity} from {time_1} to {time_2}?', <function avg_quan_time_range at 0x147251cf0>)\n"
     ]
    },
    {
     "name": "stderr",
     "output_type": "stream",
     "text": [
      "Success: 37, Error: 1:  74%|███████▍  | 37/50 [02:22<00:48,  3.76s/it]"
     ]
    },
    {
     "name": "stdout",
     "output_type": "stream",
     "text": [
      "{'identify': {'operation': 'avg', 'attribute': 'Calories_burned'}, 'filter': [{'attr': 'time', 'op': '>=', 'value': '2015'}, {'attr': 'time', 'op': '<=', 'value': '2021'}]}\n",
      "{'type': 'categorical', 'name': 'region', 'choice': ['North America', 'Europe', 'Asia', 'South America', 'Africa', 'Oceania']} {'type': 'temporal', 'span': ['1970', '2021']} {'type': 'quantitative', 'name': 'CO2 Emissions', 'range': ['1', '100']} ('What is the average {quantity} in {time_1}?', <function avg_quan_time_single_range at 0x1472f9360>)\n"
     ]
    },
    {
     "name": "stderr",
     "output_type": "stream",
     "text": [
      "Success: 38, Error: 1:  76%|███████▌  | 38/50 [02:25<00:42,  3.57s/it]"
     ]
    },
    {
     "name": "stdout",
     "output_type": "stream",
     "text": [
      "{'identify': {'aggregate': 'avg', 'attribute': 'CO2 Emissions'}, 'filter': [{'attr': 'time', 'op': '=', 'value': '1970'}]}\n",
      "{'type': 'categorical', 'name': 'race', 'choice': ['White', 'Black', 'Hispanic', 'Asian', 'Native American']} {'type': 'temporal', 'span': ['1960', '2020']} {'type': 'quantitative', 'name': 'income', 'range': ['0', '1000000']} ('What is the average {quantity} from {time_1} to {time_2}?', <function avg_quan_time_range at 0x147251cf0>)\n"
     ]
    },
    {
     "name": "stderr",
     "output_type": "stream",
     "text": [
      "Success: 39, Error: 1:  78%|███████▊  | 39/50 [02:28<00:34,  3.14s/it]"
     ]
    },
    {
     "name": "stdout",
     "output_type": "stream",
     "text": [
      "{'identify': {'operation': 'avg', 'attribute': 'income'}, 'filter': [{'attr': 'time', 'op': '>=', 'value': '1960'}, {'attr': 'time', 'op': '<=', 'value': '2020'}]}\n",
      "{'type': 'categorical', 'name': 'Continent', 'choice': ['Asia', 'Africa', 'Europe', 'North America', 'South America', 'Oceania']} {'type': 'temporal', 'span': ['1990', '2021']} {'type': 'quantitative', 'name': 'Democracy Index', 'range': ['0.1', '10']} ('What is the average {quantity} from {time_1} to {time_2}?', <function avg_quan_time_range at 0x147251cf0>)\n"
     ]
    },
    {
     "name": "stderr",
     "output_type": "stream",
     "text": [
      "Success: 40, Error: 1:  80%|████████  | 40/50 [02:31<00:31,  3.13s/it]"
     ]
    },
    {
     "name": "stdout",
     "output_type": "stream",
     "text": [
      "{'identify': {'operation': 'avg', 'attribute': 'Democracy Index'}, 'filter': [{'attr': 'time', 'op': '>=', 'value': '1990'}, {'attr': 'time', 'op': '<=', 'value': '2021'}]}\n",
      "{'type': 'categorical', 'name': 'topic', 'choice': ['fashion', 'sports', 'politics', 'entertainment', 'food', 'travel']} {'type': 'temporal', 'span': ['2015', '2022']} {'type': 'quantitative', 'name': 'mentions', 'range': ['100', '100000']} ('What is the average {quantity}?', <function avg_quan at 0x1472524d0>)\n"
     ]
    },
    {
     "name": "stderr",
     "output_type": "stream",
     "text": [
      "Success: 41, Error: 1:  82%|████████▏ | 41/50 [02:33<00:26,  2.98s/it]"
     ]
    },
    {
     "name": "stdout",
     "output_type": "stream",
     "text": [
      "{'identify': {'operation': 'avg', 'attribute': 'mentions'}}\n",
      "{'type': 'categorical', 'name': 'country', 'choice': ['Afghanistan', 'Bangladesh', 'India', 'Nepal', 'Pakistan', 'Sri Lanka']} {'type': 'temporal', 'span': ['2000', '2020']} {'type': 'quantitative', 'name': 'Gender Equality Index', 'range': ['20', '90']} ('What is the average {quantity}?', <function avg_quan at 0x1472524d0>)\n"
     ]
    },
    {
     "name": "stderr",
     "output_type": "stream",
     "text": [
      "Success: 42, Error: 1:  84%|████████▍ | 42/50 [02:35<00:21,  2.71s/it]"
     ]
    },
    {
     "name": "stdout",
     "output_type": "stream",
     "text": [
      "{'identify': {'operation': 'avg', 'attribute': 'Gender Equality Index'}}\n",
      "{'type': 'categorical', 'name': 'crime_type', 'choice': ['assault', 'burglary', 'drug offenses', 'homicide', 'robbery', 'sexual offenses']} {'type': 'temporal', 'span': ['2010', '2023']} {'type': 'quantitative', 'name': 'number_of_incidences', 'range': ['10', '2000']} ('What is the average {quantity} in {time_1}?', <function avg_quan_time_single_range at 0x1472f9360>)\n"
     ]
    },
    {
     "name": "stderr",
     "output_type": "stream",
     "text": [
      "Success: 43, Error: 1:  86%|████████▌ | 43/50 [02:38<00:18,  2.69s/it]"
     ]
    },
    {
     "name": "stdout",
     "output_type": "stream",
     "text": [
      "{'identify': {'aggregate': 'avg', 'attribute': 'number_of_incidences'}, 'filter': [{'attr': 'time', 'op': '=', 'value': '2010'}]}\n",
      "{'type': 'categorical', 'name': 'media_type', 'choice': ['TV Show', 'Movie', 'Documentary', 'Anime', 'Reality TV', 'Talk Show']} {'type': 'temporal', 'span': ['2015', '2022']} {'type': 'quantitative', 'name': 'IMDb_rating', 'range': ['0', '10']} ('What is the average {quantity}?', <function avg_quan at 0x1472524d0>)\n"
     ]
    },
    {
     "name": "stderr",
     "output_type": "stream",
     "text": [
      "Success: 44, Error: 1:  88%|████████▊ | 44/50 [02:40<00:15,  2.51s/it]"
     ]
    },
    {
     "name": "stdout",
     "output_type": "stream",
     "text": [
      "{'identify': {'operation': 'avg', 'attribute': 'IMDb_rating'}}\n",
      "{'type': 'categorical', 'name': 'programming_language', 'choice': ['Python', 'Java', 'C++', 'JavaScript', 'Ruby', 'Swift', 'Go', 'R', 'PHP']} {'type': 'temporal', 'span': ['2000', '2021']} {'type': 'quantitative', 'name': 'code_lines', 'range': ['1', '1000000']} ('What is the average {quantity} from {time_1} to {time_2}?', <function avg_quan_time_range at 0x147251cf0>)\n"
     ]
    },
    {
     "name": "stderr",
     "output_type": "stream",
     "text": [
      "Success: 45, Error: 1:  90%|█████████ | 45/50 [02:43<00:13,  2.70s/it]"
     ]
    },
    {
     "name": "stdout",
     "output_type": "stream",
     "text": [
      "{'identify': {'operation': 'avg', 'attribute': 'code_lines'}, 'filter': [{'attr': 'time', 'op': '>=', 'value': '2000'}, {'attr': 'time', 'op': '<=', 'value': '2021'}]}\n",
      "{'type': 'categorical', 'name': 'region', 'choice': ['North America', 'South America', 'Europe', 'Africa', 'Asia', 'Australia']} {'type': 'temporal', 'span': ['1950', '2025']} {'type': 'quantitative', 'name': 'temperature', 'range': ['-20', '50']} ('What is the average {quantity}?', <function avg_quan at 0x1472524d0>)\n"
     ]
    },
    {
     "name": "stderr",
     "output_type": "stream",
     "text": [
      "Success: 46, Error: 1:  92%|█████████▏| 46/50 [02:45<00:10,  2.53s/it]"
     ]
    },
    {
     "name": "stdout",
     "output_type": "stream",
     "text": [
      "{'identify': {'operation': 'avg', 'attribute': 'temperature'}}\n",
      "{'type': 'categorical', 'name': 'building type', 'choice': ['office', 'residential', 'educational', 'hospitality', 'retail', 'industrial']} {'type': 'temporal', 'span': ['2000', '2022']} {'type': 'quantitative', 'name': 'square footage', 'range': ['100', '10000']} ('What is the average {quantity}?', <function avg_quan at 0x1472524d0>)\n"
     ]
    },
    {
     "name": "stderr",
     "output_type": "stream",
     "text": [
      "Success: 47, Error: 1:  94%|█████████▍| 47/50 [02:48<00:07,  2.55s/it]"
     ]
    },
    {
     "name": "stdout",
     "output_type": "stream",
     "text": [
      "{'identify': {'operation': 'avg', 'attribute': 'square footage'}}\n",
      "{'type': 'categorical', 'name': 'product_category', 'choice': ['Electronics', 'Apparel', 'Books', 'Beauty', 'Sports', 'Home & Furniture', 'Toys', 'Food & Beverage']} {'type': 'temporal', 'span': ['2020-01-01', '2021-12-31']} {'type': 'quantitative', 'name': 'sales', 'range': ['100', '10000']} ('What is the average {quantity} in {time_1}?', <function avg_quan_time_single_range at 0x1472f9360>)\n"
     ]
    },
    {
     "name": "stderr",
     "output_type": "stream",
     "text": [
      "Success: 48, Error: 1:  96%|█████████▌| 48/50 [02:51<00:05,  2.73s/it]"
     ]
    },
    {
     "name": "stdout",
     "output_type": "stream",
     "text": [
      "{'identify': {'aggregate': 'avg', 'attribute': 'sales'}, 'filter': [{'attr': 'time', 'op': '=', 'value': '2020-01-01'}]}\n",
      "{'type': 'categorical', 'name': 'media_type', 'choice': ['TV Show', 'Movie', 'Documentary', 'Anime', 'Reality TV', 'Talk Show']} {'type': 'temporal', 'span': ['2015', '2022']} {'type': 'quantitative', 'name': 'IMDb_rating', 'range': ['0', '10']} ('What is the average {quantity} in {time_1}?', <function avg_quan_time_single_range at 0x1472f9360>)\n"
     ]
    },
    {
     "name": "stderr",
     "output_type": "stream",
     "text": [
      "Success: 49, Error: 1:  98%|█████████▊| 49/50 [02:54<00:03,  3.56s/it]"
     ]
    },
    {
     "name": "stdout",
     "output_type": "stream",
     "text": [
      "{'identify': {'aggregate': 'avg', 'attribute': 'IMDb_rating'}, 'filter': [{'attr': 'time', 'op': '=', 'value': '2015'}]}\n"
     ]
    },
    {
     "name": "stderr",
     "output_type": "stream",
     "text": [
      "\n"
     ]
    }
   ],
   "source": [
    "import json\n",
    "import random\n",
    "import tqdm\n",
    "import pandas as pd\n",
    "\n",
    "df = pd.read_csv(\"ctq_attribute.csv\")\n",
    "res = pd.DataFrame(columns=[\"input\", \"output\"])\n",
    "\n",
    "file_output = 'ctq_with_avg.csv'\n",
    "\n",
    "N = 5000\n",
    "N = 50\n",
    "\n",
    "with tqdm.tqdm(total=N) as pbar:\n",
    "    success = 0\n",
    "    error = 0\n",
    "    pbar.set_description(f\"Success: {success}, Error: {error}\")\n",
    "    for _ in range(N):\n",
    "        _, c, t, q = df.sample().iloc[0]\n",
    "        try:\n",
    "            c = eval(c)\n",
    "            t = eval(t)\n",
    "            q = eval(q)\n",
    "            template = random.choice(templates)\n",
    "\n",
    "            print(c,t,q, template)\n",
    "\n",
    "            sentence, sentence_refined, query = construct_question((c, t, q), template)\n",
    "\n",
    "            input_ = {\n",
    "                \"attributes\": [c, t, q],\n",
    "                \"sentence\": sentence_refined,\n",
    "            }\n",
    "            output = query\n",
    "\n",
    "            print(output)\n",
    "\n",
    "            res = pd.concat(\n",
    "                [\n",
    "                    res,\n",
    "                    pd.DataFrame(\n",
    "                        {\"input\": [json.dumps(input_)], \"output\": [json.dumps(output)]}\n",
    "                    ),\n",
    "                ],\n",
    "                ignore_index=True,\n",
    "            )\n",
    "            res.to_csv(file_output, index=False)\n",
    "            success += 1\n",
    "            pbar.update(1)\n",
    "        except Exception:\n",
    "            error += 1\n",
    "\n",
    "        pbar.set_description(f\"Success: {success}, Error: {error}\")\n"
   ]
  },
  {
   "cell_type": "code",
   "execution_count": 19,
   "metadata": {},
   "outputs": [],
   "source": [
    "def strip(s):    \n",
    "    o = json.loads(s)    \n",
    "    o[\"sentence\"] = o[\"sentence\"].strip().split(\"\\n\")[-1]\n",
    "    return json.dumps(o)\n",
    "\n",
    "df = pd.read_csv(file_output)\n",
    "df.input = df.input.apply(strip)\n",
    "df.to_csv(file_output, index=False)"
   ]
  },
  {
   "cell_type": "code",
   "execution_count": null,
   "metadata": {},
   "outputs": [],
   "source": []
  }
 ],
 "metadata": {
  "kernelspec": {
   "display_name": "base",
   "language": "python",
   "name": "python3"
  },
  "language_info": {
   "codemirror_mode": {
    "name": "ipython",
    "version": 3
   },
   "file_extension": ".py",
   "mimetype": "text/x-python",
   "name": "python",
   "nbconvert_exporter": "python",
   "pygments_lexer": "ipython3",
   "version": "3.10.6"
  },
  "orig_nbformat": 4
 },
 "nbformat": 4,
 "nbformat_minor": 2
}
